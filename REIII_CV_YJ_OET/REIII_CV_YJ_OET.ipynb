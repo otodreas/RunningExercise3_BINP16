{
 "cells": [
  {
   "cell_type": "markdown",
   "metadata": {
    "id": "UusQxIO4MN3a"
   },
   "source": [
    "# **Introduction**\n",
    "\n"
   ]
  },
  {
   "cell_type": "markdown",
   "metadata": {
    "id": "fHgCSNHgZZeB"
   },
   "source": [
    "The Romanov family is Russia's last dynasty which ruled till 1917. In 1894, Nicholas II married Alexandra Feodorovna, who was Queen Victoria of England's granddaughter. They had five kids — four daughters named Olga, Tatiana, Maria, and Anastasia and a son named Alexei. Alexei had hemophilia, a genetic condition that affects the ability of blood to clot and is usually passed down through maternal lines, tying in the Romanovs to Queen Victoria's hemophilia gene. During Bolshevik Revolution the family was executed. After several years their remains was found but there was one mystery - Anastasia's body was not found. Years went by with several women claiming to be Anastasia.\n",
    "\n"
   ]
  },
  {
   "cell_type": "code",
   "execution_count": 21,
   "metadata": {
    "id": "wYjqiu0exq6F"
   },
   "outputs": [],
   "source": [
    "# Libraries\n",
    "import sys\n",
    "import os\n",
    "import random\n",
    "import pandas as pd\n",
    "import numpy as np\n",
    "from scipy.cluster.hierarchy import linkage, dendrogram\n",
    "from scipy.spatial.distance import squareform\n",
    "import matplotlib.pyplot as plt\n",
    "\n",
    "random.seed(0)"
   ]
  },
  {
   "cell_type": "markdown",
   "metadata": {
    "id": "uOCQw5EokoN0"
   },
   "source": [
    "### Structure\n",
    "```markdown\n",
    "REIII_CV_YJ_OET/\n",
    "├── Data/\n",
    "|   ├── Output_files/\n",
    "|   |   ├── Part_I/\n",
    "|   |   |   └── TYPE YOUR FILES HERE\n",
    "|   |   ├── Part_II/\n",
    "|   |   |   └── TYPE YOUR FILES HERE\n",
    "|   |   └── Part_III/\n",
    "|   |       └── TYPE YOUR FILES HERE\n",
    "|   ├── Weight_parameters\n",
    "|   └── Genetic_Data.txt\n",
    "└── REIII_CV_YJ_OET.ipynb\n",
    "```"
   ]
  },
  {
   "cell_type": "markdown",
   "metadata": {
    "id": "adz4MaQXMVVx"
   },
   "source": [
    "# Methods 1\n",
    "\n",
    "### Author: Chetana Varada"
   ]
  },
  {
   "cell_type": "markdown",
   "metadata": {
    "id": "hOARuySUbPg3"
   },
   "source": [
    "To find Anastasia's body, we can use the DNA samples of the family and find the most identical one. So, first the genetic data parser was performed. Here it parses and structures the genetic information from the input raw DNA data. For Example: it parses each sample label \">Anastasia4_mtDNA\" or \">Prince Fred_Y\" and these are grouped with respective sequences under them. This mainly classifies sequences as either mtDNA or Y DNA. mtDNA is the maternal mitochondrial DNA passed down from the mother to offsprings without any mismatch or crossing over of DNA whereas, the Y DNA is passed from father to son only. Hence, the mtDNA helps to verify the Romanov female line and Y DNA helps to verify Rasputin and Prince's lineage. This program generates 2 fasta files containing mtDNA and Y DNA respectively.\n",
    "\n",
    "Following the parsing of genetic DNA is the ExamineMSA.py program which determines how close or divergent the DNA sequences are from each other based on MSA (Multiple Sequence Alignment). Here it uses identity score, which gives the ratio of identical nucleotides among the 2 compared sequences and then the alignment score, which gives the overall similarity calculated by the weight parameters (either given by user or using default). This is to mainly read all possible pairs of sequences to find the actual Anastasia. Here '?' represent the nucleotide which was present in the sequence but lost because the bodies were recovered after a long time which would have caused the loss of the part of a sequence, '-' represents the gaps in the sequence. So ? and - usually represent uncomparable uncertain data.\n",
    "\n",
    "By running ExamineMSA.py and FastaParser.py we can come close to finding actual Anastasia who shares genetic relations with Romanov's remains or Rasputin's family.\n",
    "\n"
   ]
  },
  {
   "cell_type": "markdown",
   "metadata": {
    "id": "chMclSw3SmbA"
   },
   "source": [
    "## 1.1 FastaParser.py\n",
    "\n",
    "Parses a structured GeneticData.txt file containing DNA sequences\n",
    "and produces two FASTA files:\n",
    "\n",
    "  1. One for mtDNA sequences\n",
    "  2. One for Y chromosome sequences\n",
    "  \n",
    "Input: GeneticData - 4.txt which is renamed as GeneticData.txt\n",
    "\n",
    "Description:\n",
    "\n",
    "    A fasta file -> GeneticData - 4 was selected according to the out group number,\n",
    "    which had all the ancestoral genetic information of Anastasia and the probable\n",
    "    genetic information of real Anastasia.\n",
    "    This file is then decoded to produce 2 output files - mtDNA and Y.\n",
    "    \n",
    "Procedure:\n",
    "\n",
    "    Functions created:\n",
    "        To check if the line is a probable sequence, which contains A C T G ? -\n",
    "        To check for line which have certain keywords\n",
    "        Parse GeneticData.txt and return two dicts:\n",
    "          mtDNA_dict and Y_dict\n",
    "        Handles:\n",
    "          - multi-line names (e.g., 'Anastasia4 son')\n",
    "          - weird apostrophe bytes (<92>)\n",
    "          - both mtDNA and Y chromosome sections\n",
    "        To write a FASTA file\n",
    "        The main function to perform quality checks and print output statement\n",
    "\n",
    "Usage:\n",
    "\n",
    "    python3 FastaParser.py GeneticData.txt output_fasta_file\n",
    "\n",
    "Outputs Example:\n",
    "\n",
    "    output_fasta_file_mtDNA.fasta\n",
    "    output_fasta_file_Y.fasta"
   ]
  },
  {
   "cell_type": "markdown",
   "metadata": {
    "id": "BVmceGTBWLlD"
   },
   "source": [
    "The function is_probable_sequence is to check if a line looks like a DNA sequence (A/T/C/G/?/-) also strips excess space around the sequence and checks if the sequence is actually valid by checking the length of the sequence to be greater than 0."
   ]
  },
  {
   "cell_type": "code",
   "execution_count": 2,
   "metadata": {
    "id": "NGpKYeHEWMkp"
   },
   "outputs": [],
   "source": [
    "def is_probable_sequence(line):\n",
    "    return all(ch in \"ATCG?- \" for ch in line.strip()) and len(line.strip()) > 0"
   ]
  },
  {
   "cell_type": "markdown",
   "metadata": {
    "id": "lU7UWTTKWUJJ"
   },
   "source": [
    "The function is_metadata_line is to check lines that indicate traits by keyword like \"carrier\", \"patient\" etc. For identifying the line is coverted to lower case to check and it matches the keywords to the lines in the input file identify the lines that are close to the sequence, which can later be used to identify the headers names for the respective sequence."
   ]
  },
  {
   "cell_type": "code",
   "execution_count": 3,
   "metadata": {
    "id": "WLDSDadPWX3G"
   },
   "outputs": [],
   "source": [
    "def is_metadata_line(line):\n",
    "    keywords = [\"carrier\", \"patient\", \"not a\", \"hemophilia\", \"unknown\"]\n",
    "    low = line.lower() #convert to lower case\n",
    "    return any(k in low for k in keywords) #match keyword to words in line in input file"
   ]
  },
  {
   "cell_type": "markdown",
   "metadata": {
    "id": "UaGI0p0aWcNQ"
   },
   "source": [
    "The function parse_genetic_data is to parse the structured genetic data. This creates an environment making the file data clean and readable. It skips blank lines and lines with the specified metadata keywords. It then detects the persons name and handles multi-line names. After the name line, it detects the sequences which are mtDNA or Y chromosome and joins the sequence to the respective person name."
   ]
  },
  {
   "cell_type": "code",
   "execution_count": 4,
   "metadata": {
    "id": "nF6b2rPVWjek"
   },
   "outputs": [],
   "source": [
    "def parse_genetic_data(input_file):\n",
    "    mtDNA_dict = {}\n",
    "    Y_dict = {}\n",
    "\n",
    "    with open(input_file, 'r', encoding='utf-8', errors='ignore') as fh: #To read and clean file\n",
    "        raw_lines = [ln.rstrip() for ln in fh.readlines()]\n",
    "\n",
    "    lines = [] #clean the file to remove and replace certain characters and make it readable\n",
    "    for ln in raw_lines:\n",
    "        fixed = ln.replace(\"<92>\", \"'\").replace(\"’\", \"'\").strip()\n",
    "        if fixed: #Removes empty lines\n",
    "            lines.append(fixed)\n",
    "\n",
    "    i = 0 #Current line index\n",
    "    n = len(lines) #Total number of lines\n",
    "\n",
    "    while i < n:\n",
    "        line = lines[i].strip()\n",
    "\n",
    "        if not line or is_metadata_line(line) or is_probable_sequence(line) or line.lower().startswith((\"mtdna\", \"y chromosome\")):\n",
    "                #To skip blank or metadata lines\n",
    "            i += 1\n",
    "            continue\n",
    "\n",
    "        person_name = line.lstrip('>').strip() #To detect person name and handle multi-line names\n",
    "\n",
    "        #Merge consecutive name lines into one if they’re not DNA, metadata, or labels\n",
    "        while (i + 1 < n and\n",
    "               not is_probable_sequence(lines[i + 1]) and\n",
    "               not is_metadata_line(lines[i + 1]) and\n",
    "               not lines[i + 1].lower().startswith((\"mtdna\", \"y chromosome\"))):\n",
    "            person_name += \" \" + lines[i + 1].strip()\n",
    "            i += 1\n",
    "\n",
    "        i += 1  #move past name line\n",
    "\n",
    "        while i < n:\n",
    "            current = lines[i].strip().lower()\n",
    "\n",
    "            #mtDNA\n",
    "            if current.startswith(\"mtdna\"):\n",
    "                if i + 1 < n and is_probable_sequence(lines[i + 1]): #reads next line - sequence\n",
    "                    seq = lines[i + 1].replace(\" \", \"\").upper()\n",
    "                    mtDNA_dict[f\"{person_name}_mtDNA\"] = seq #saves the sequence with person name mtDNA\n",
    "                    i += 2\n",
    "                    continue\n",
    "                else:\n",
    "                    i += 1\n",
    "                    continue\n",
    "\n",
    "            #Y chromosome\n",
    "            elif current.startswith(\"y chromosome\") or current.startswith(\"ychr\") or current == \"y\":\n",
    "                if i + 1 < n and is_probable_sequence(lines[i + 1]): #reads next line - sequence\n",
    "                    seq = lines[i + 1].replace(\" \", \"\").upper()\n",
    "                    Y_dict[f\"{person_name}_Y\"] = seq #saves the sequence with person name Y chromosome\n",
    "                    i += 2\n",
    "                    continue\n",
    "                else:\n",
    "                    i += 1\n",
    "                    continue\n",
    "\n",
    "            if (not is_probable_sequence(lines[i])\n",
    "                and not lines[i].lower().startswith((\"mtdna\", \"y chromosome\"))\n",
    "                and not is_metadata_line(lines[i])): #Break, if next line is a new name (not sequence or label)\n",
    "                break\n",
    "\n",
    "            i += 1\n",
    "\n",
    "    return mtDNA_dict, Y_dict"
   ]
  },
  {
   "cell_type": "markdown",
   "metadata": {
    "id": "mMpC-ZIMWtIS"
   },
   "source": [
    "The function write_fasta is to write the output Fasta files"
   ]
  },
  {
   "cell_type": "code",
   "execution_count": 5,
   "metadata": {
    "id": "6X9Y4terWwNr"
   },
   "outputs": [],
   "source": [
    "def write_fasta(output_file, seq_dict): #To write a Fasta file\n",
    "    with open(output_file, \"w\") as f:\n",
    "        for name, seq in seq_dict.items():\n",
    "            f.write(f\">{name}\\n{seq}\\n\")"
   ]
  },
  {
   "cell_type": "markdown",
   "metadata": {
    "id": "VC3kJGg_WycF"
   },
   "source": [
    "Main code\n",
    "\n",
    "Here the user is asked to enter the input file path and enter the output file prefix. It also performs QC's to check if the file exists or if there are sequences in the input file and prints an error message if not valid. Once executed correctly, it prints an output message and the provides the output files with mtDNA and Y chromosome."
   ]
  },
  {
   "cell_type": "code",
   "execution_count": 6,
   "metadata": {
    "colab": {
     "base_uri": "https://localhost:8080/"
    },
    "executionInfo": {
     "elapsed": 10355,
     "status": "ok",
     "timestamp": 1761744789250,
     "user": {
      "displayName": "Yaqi Jiao",
      "userId": "02323540990855938075"
     },
     "user_tz": -60
    },
    "id": "l67BdewhW19g",
    "outputId": "751fe1e8-cd66-415e-eb5e-3af6a375a343"
   },
   "outputs": [
    {
     "name": "stdin",
     "output_type": "stream",
     "text": [
      "Enter input file path (e.g. Input_Data/GeneticData.txt):  Input_Data/GeneticData.txt\n",
      "Enter output prefix (e.g. Output_Data/output):  Output_Data/output\n"
     ]
    },
    {
     "name": "stdout",
     "output_type": "stream",
     "text": [
      "\n",
      " Processing complete.\n",
      "mtDNA → Output_Data/output_mtDNA.fasta\n",
      "Y chromosome → Output_Data/output_Y.fasta\n"
     ]
    }
   ],
   "source": [
    "def main():\n",
    "    # Remove unwanted Colab/Jupyter args\n",
    "    args = [arg for arg in sys.argv[1:] if not arg.startswith(\"-\")]\n",
    "\n",
    "    if len(args) < 2:\n",
    "        input_file = input(\"Enter input file path (e.g. Input_Data/GeneticData.txt): \").strip()\n",
    "        output_prefix = input(\"Enter output prefix (e.g. Output_Data/output): \").strip()\n",
    "    else:\n",
    "        input_file = args[0]\n",
    "        output_prefix = args[1]\n",
    "\n",
    "    # Input checks\n",
    "    if not os.path.exists(input_file):\n",
    "        print(f\" Error: The input file '{input_file}' was not found.\")\n",
    "        sys.exit(1)\n",
    "\n",
    "    # Parse file\n",
    "    mtDNA_dict, Y_dict = parse_genetic_data(input_file)\n",
    "\n",
    "    if not mtDNA_dict and not Y_dict:\n",
    "        print(\" No valid sequences found. Exiting.\")\n",
    "        sys.exit(0)\n",
    "\n",
    "    # Create output files\n",
    "    mt_output = f\"{output_prefix}_mtDNA.fasta\"  # f\"Data/Outputs/Part_I/{output_prefix}_mtDNA.fasta\"\n",
    "    y_output = f\"{output_prefix}_Y.fasta\"\n",
    "\n",
    "    write_fasta(mt_output, mtDNA_dict)\n",
    "    write_fasta(y_output, Y_dict)\n",
    "\n",
    "    print(\"\\n Processing complete.\")\n",
    "    print(f\"mtDNA → {mt_output}\")\n",
    "    print(f\"Y chromosome → {y_output}\")\n",
    "\n",
    "\n",
    "if __name__ == \"__main__\":\n",
    "    main()\n"
   ]
  },
  {
   "cell_type": "markdown",
   "metadata": {
    "id": "7g_anfAlZ51_"
   },
   "source": [
    "## 1.2 ExamineMSA.py\n",
    "\n",
    "Examines the output files from FastaParser.py - output_fasta_file_mtDNA.fasta output_fasta_file_Y.fasta and performs MSA on each individually and produces 2 text files:\n",
    "\n",
    "  1. One for mtDNA sequences\n",
    "  2. One for Y chromosome sequences\n",
    "  \n",
    "\n",
    "Input: output_fasta_file_mtDNA.fasta & output_fasta_file_Y.fasta & weight_parameters\n",
    "\n",
    "\n",
    "Description:\n",
    "\n",
    "    The result fasta files from previous code is used as inputs here, with a weight\n",
    "    file. The fasta files are read and the sequences are read in aligned form. Pairwise\n",
    "    score is generated for all possibilities of nucleotides and multiple sequence\n",
    "    alignment is performed on each fasta file sequences separately. The output files\n",
    "    are written the the given format.\n",
    "    \n",
    "\n",
    "Procedure:\n",
    "\n",
    "    Functions created:\n",
    "        To read Fasta file into dictionary\n",
    "        To read a weight matrix\n",
    "        To calculate identity and alignment score for a pair of sequences\n",
    "        To write results in a text file\n",
    "        The main function to perform quality checks and print output statement\n",
    "\n",
    "Usage:\n",
    "\n",
    "    python3 ExamineMSA.py output_fasta_file_mtDNA.fasta output_fasta_file_Y.fasta weight_parameters output_MSA_file\n",
    "\n",
    "Outputs Example:\n",
    "\n",
    "    output_MSA_file_mtDNA_scores.txt\n",
    "    output_MSA_file_Y_scores.txt"
   ]
  },
  {
   "cell_type": "code",
   "execution_count": 7,
   "metadata": {
    "id": "SfD6b3ZbbD_s"
   },
   "outputs": [],
   "source": [
    "# Library imports\n",
    "import sys\n",
    "import itertools"
   ]
  },
  {
   "cell_type": "markdown",
   "metadata": {
    "id": "sctCELbzbKSP"
   },
   "source": [
    "The function read_fasta is to read Fasta file from the previous code output. It cleans the extra spaces and skips empty lines. It then checks for headers to identify the sequences and returns the dictionary mapping sequence names to the respective sequences."
   ]
  },
  {
   "cell_type": "code",
   "execution_count": 8,
   "metadata": {
    "id": "4JrhxScpbOX3"
   },
   "outputs": [],
   "source": [
    "def read_fasta(fasta_file):\n",
    "    seq_dict = {} #Initialize empty dictionary to store sequences\n",
    "    with open(fasta_file, 'r') as f:\n",
    "        header = None\n",
    "        seq = []\n",
    "        for line in f:\n",
    "            line = line.strip()\n",
    "            if not line: #To skip empty lines\n",
    "                continue\n",
    "            if line.startswith('>'):\n",
    "                if header:\n",
    "                    seq_dict[header] = ''.join(seq).upper() #Saves previous sequence\n",
    "                header = line[1:].strip() #Stores new header\n",
    "                seq = [] #resets sequence\n",
    "            else:\n",
    "                seq.append(line) #To handle multi-line sequences\n",
    "        if header:\n",
    "            seq_dict[header] = ''.join(seq).upper() #For the last sequence\n",
    "    return seq_dict #returns a dictionary mapping sequence names to their aligned sequences"
   ]
  },
  {
   "cell_type": "markdown",
   "metadata": {
    "id": "WXVo5c8JC1oV"
   },
   "source": [
    "The function default_weights sets default parameters incase the user does not input the default parameters file"
   ]
  },
  {
   "cell_type": "code",
   "execution_count": 9,
   "metadata": {
    "id": "nfigcc7MC6NX"
   },
   "outputs": [],
   "source": [
    "def default_weight_matrix(): #Default weights\n",
    "    bases = ['A', 'T', 'C', 'G']\n",
    "    weights = {}\n",
    "    for b1 in bases:\n",
    "        for b2 in bases:\n",
    "            weights[(b1, b2)] = 2.0 if b1 == b2 else -1.0\n",
    "    gap_open = -5\n",
    "    gap_extend = -1\n",
    "    # handle gaps and unknowns\n",
    "    weights[('-', '-')] = 0.0\n",
    "    weights[('?', '?')] = 0.0\n",
    "    weights[('-', '?')] = 0.0\n",
    "    weights[('?', '-')] = 0.0\n",
    "    return weights"
   ]
  },
  {
   "cell_type": "markdown",
   "metadata": {
    "id": "P6zf4qDlbS9d"
   },
   "source": [
    "The function read_weight_matrix reads a weight parameters file, which has the scores for all possible pairs of nucleotides, gaps and \"?\" which are nucleotides which were not detected due to decay"
   ]
  },
  {
   "cell_type": "code",
   "execution_count": 10,
   "metadata": {
    "id": "S5oTDyW7bVe2"
   },
   "outputs": [],
   "source": [
    "def read_weight_matrix(weight_file):\n",
    "    weights = {} #initialize weights in this dictionary\n",
    "    try:\n",
    "        with open(weight_file, 'r') as f:\n",
    "            for line in f:\n",
    "                line = line.strip()\n",
    "                if not line or line.startswith(\"#\"):\n",
    "                    continue  # skip empty or comment lines\n",
    "\n",
    "                parts = line.split()\n",
    "                if len(parts) != 3:\n",
    "                    print(f\" Skipping malformed line in weight file: {line}\")\n",
    "                    continue\n",
    "\n",
    "                base1, base2, value = parts\n",
    "                try:\n",
    "                    weights[(base1.upper(), base2.upper())] = float(value)\n",
    "                except ValueError:\n",
    "                    print(f\" Invalid score value '{value}' in line: {line}\")\n",
    "\n",
    "        if not weights:\n",
    "            print(\" Warning: Weight file was empty or invalid. Using default weights.\")\n",
    "            weights = default_weight_matrix()\n",
    "\n",
    "    except FileNotFoundError:\n",
    "        print(f\" Error: Weight file '{weight_file}' not found. Using default weights.\")\n",
    "        weights = default_weight_matrix()\n",
    "    except Exception as e:\n",
    "        print(f\" Error reading weight matrix ({e}). Using default weights.\")\n",
    "        weights = default_weight_matrix()\n",
    "\n",
    "    return weights"
   ]
  },
  {
   "cell_type": "markdown",
   "metadata": {
    "id": "0S4vD5eGbZ-j"
   },
   "source": [
    "The function pairwise_score is to calculate identity and alignment score for pairs of sequences. This compares all possible scenarios between nucleotide bases, '?', and gaps. For the gaps, we use the affine gap penalty approach, by giving a higher penalty to open or form a gap and lower penalty to extend the gap (where default values are given). It also calculates the identical, comparable, uncertain bases which arise in the alignment. The total score is calculated by adding the alignment scores. Total positions are calculated as the sum of comparable and uncertain positions. From this the identity percentage is calculated by dividing identical bases by the total positions of the bases multiplied by 100."
   ]
  },
  {
   "cell_type": "code",
   "execution_count": 11,
   "metadata": {
    "id": "OLJdfDNnbd-a"
   },
   "outputs": [],
   "source": [
    "def pairwise_score(seq1, seq2, weight_matrix): #To calculate identity and alignment score for a pair of sequences\n",
    "    assert len(seq1) == len(seq2) #Ensures sequences are same length (aligned)\n",
    "    total_positions = len(seq1)\n",
    "    identical = 0\n",
    "    comparable = 0\n",
    "    uncertain = 0\n",
    "    score_sum = 0\n",
    "    gap_open = -5\n",
    "    gap_extend = -1\n",
    "    in_gap = False\n",
    "    for a, b in zip(seq1, seq2):\n",
    "        if (a == '?' and b == '?') or (a == '?' and b == '-') or (a == '-' and b == '?') or (a == '-' and b == '-'): #Skips double gaps\n",
    "            in_gap = False\n",
    "            continue\n",
    "        if (a == '?' and b in \"ACGT\") or (b == '?' and a in \"ACGT\"): #with one valid base and other uncertain base\n",
    "            uncertain += 1\n",
    "            in_gap = False\n",
    "            continue\n",
    "        if (a == '-' and b in \"ACGT\") or (b == '-' and a in \"ACGT\"): #with one valid base and an actual gap\n",
    "            comparable += 1\n",
    "            if not in_gap: #Entering a new gap\n",
    "                score_sum += gap_open\n",
    "                in_gap = True\n",
    "            else:\n",
    "                # Continuing the same gap\n",
    "                score_sum += gap_extend\n",
    "            score = weight_matrix.get((a, b)) #Gets score from weight matrix\n",
    "            if score is None:\n",
    "                score = weight_matrix.get((b, a), 0) #Use symmetry if score not found\n",
    "            score_sum += score #Sum of alignment scores of all comparable positions\n",
    "            continue\n",
    "        if a in \"ACGT\" and b in \"ACGT\": #with both valid bases\n",
    "            comparable += 1\n",
    "            if a == b:\n",
    "                identical += 1 #Counts positions where nucleotides match\n",
    "            score = weight_matrix.get((a, b)) #Gets score from weight matrix\n",
    "            if score is None:\n",
    "                score = weight_matrix.get((b, a), 0) #Use symmetry if score not found\n",
    "            score_sum += score #Sum of alignment scores of all comparable positions\n",
    "\n",
    "    total_positions = comparable + uncertain\n",
    "    if total_positions > 0:\n",
    "        identity_percent = 100 * identical / total_positions #% of matching nucleotides over total length\n",
    "    else:\n",
    "        0\n",
    "    return comparable, uncertain, total_positions, identity_percent, score_sum"
   ]
  },
  {
   "cell_type": "markdown",
   "metadata": {
    "id": "stIFfUu4bisB"
   },
   "source": [
    "The function write_results is to write results in a text file comparing each sequence with one another and recording all the calculated parameters from the previous function."
   ]
  },
  {
   "cell_type": "code",
   "execution_count": 12,
   "metadata": {
    "id": "N40QOUX8bwe9"
   },
   "outputs": [],
   "source": [
    "def write_results(seq_dict, weight_matrix, output_file): #To write results in a text file\n",
    "    headers = list(seq_dict.keys()) #Gets sequence names\n",
    "    results = []\n",
    "\n",
    "    for h1, h2 in itertools.combinations(headers, 2): #Generates all unique pairs of sequence\n",
    "        seq1 = seq_dict[h1]\n",
    "        seq2 = seq_dict[h2]\n",
    "        comp, uncertain, total, identity, score = pairwise_score(seq1, seq2, weight_matrix)\n",
    "        results.append((h1, h2, comp, uncertain, total, identity, score))\n",
    "\n",
    "    with open(output_file, 'w') as out:\n",
    "        out.write(\"SampleA | SampleB | Comparable nucleotides | uncertain nucleotides | Total nucleotides | IdentityScore | Score\\n\")\n",
    "        for r in results:\n",
    "            out.write(f\"{r[0]} {r[1]} {r[2]} {r[3]} {r[4]} {r[5]:.1f}% {r[6]}\\n\")\n",
    "\n",
    "    print(f\"Results written to {output_file}\")"
   ]
  },
  {
   "cell_type": "markdown",
   "metadata": {
    "id": "cfCI-4cHcK1E"
   },
   "source": [
    "Main Code\n",
    "\n",
    "Here the user is asked to enter the input file path , which is the previous programs output(mtDNA.fasta and Y.fasta), the weight parameters file path and enter the output file prefix. It also performs QC's to check if the file exists or if there are sequences in the input file and prints an error message if not valid. Once executed correctly, it prints an output message and the provides the output files of mtDNA and Y chromosome with the respective MSA performed on each."
   ]
  },
  {
   "cell_type": "code",
   "execution_count": 13,
   "metadata": {
    "colab": {
     "base_uri": "https://localhost:8080/"
    },
    "executionInfo": {
     "elapsed": 32979,
     "status": "ok",
     "timestamp": 1761745020694,
     "user": {
      "displayName": "Yaqi Jiao",
      "userId": "02323540990855938075"
     },
     "user_tz": -60
    },
    "id": "Tt8Npv91cMGb",
    "outputId": "83de6c87-5c9b-43c4-a26d-43929008230b"
   },
   "outputs": [
    {
     "name": "stdout",
     "output_type": "stream",
     "text": [
      " No valid command-line arguments detected.\n"
     ]
    },
    {
     "name": "stdin",
     "output_type": "stream",
     "text": [
      "Enter path to mtDNA FASTA file:  Output_Data/output_mtDNA.fasta\n",
      "Enter path to Y chromosome FASTA file:  Output_Data/output_Y.fasta\n",
      "Enter path to weight parameters file (or leave blank for default):  Input_Data/weight_parameters\n",
      "Enter output prefix (e.g. results):  Output_Data/results\n"
     ]
    },
    {
     "name": "stdout",
     "output_type": "stream",
     "text": [
      " Loaded weight matrix from Input_Data/weight_parameters\n",
      "Results written to Output_Data/results_mtDNA_scores.txt\n",
      " mtDNA alignment results saved to: Output_Data/results_mtDNA_scores.txt\n",
      "Results written to Output_Data/results_Y_scores.txt\n",
      " Y chromosome alignment results saved to: Output_Data/results_Y_scores.txt\n",
      "\n",
      " Processing complete.\n",
      "Weight parameters used: {('A', 'A'): 2.0, ('A', 'T'): -1.0, ('A', 'C'): -1.0, ('A', 'G'): -1.0, ('T', 'T'): 2.0, ('T', 'A'): -1.0, ('T', 'C'): -1.0, ('T', 'G'): -1.0, ('C', 'C'): 2.0, ('C', 'A'): -1.0, ('C', 'T'): -1.0, ('C', 'G'): -1.0, ('G', 'G'): 2.0, ('G', 'A'): -1.0, ('G', 'T'): -1.0, ('G', 'C'): -1.0, ('-', '-'): 0.0, ('?', '?'): 0.0, ('-', '?'): 0.0}\n"
     ]
    }
   ],
   "source": [
    "def main():\n",
    "    args = [arg for arg in sys.argv[1:] if not arg.startswith(\"-\")]\n",
    "\n",
    "    if len(args) < 4:\n",
    "        print(\" No valid command-line arguments detected.\")\n",
    "        mtDNA_file = input(\"Enter path to mtDNA FASTA file: \").strip()\n",
    "        Y_file = input(\"Enter path to Y chromosome FASTA file: \").strip()\n",
    "        weight_file = input(\"Enter path to weight parameters file (or leave blank for default): \").strip()\n",
    "        output_prefix = input(\"Enter output prefix (e.g. results): \").strip()\n",
    "    else:\n",
    "        mtDNA_file = args[0]\n",
    "        Y_file = args[1]\n",
    "        weight_file = args[2]\n",
    "        output_prefix = args[3]\n",
    "\n",
    "    # Validate input files\n",
    "    for f in [mtDNA_file, Y_file]:\n",
    "        if not os.path.exists(f):\n",
    "            print(f\" Error: Input file '{f}' not found.\")\n",
    "            sys.exit(1)\n",
    "\n",
    "    # Load weight matrix\n",
    "    if weight_file and os.path.exists(weight_file):\n",
    "        try:\n",
    "            weight_matrix = read_weight_matrix(weight_file)\n",
    "            print(f\" Loaded weight matrix from {weight_file}\")\n",
    "        except Exception as e:\n",
    "            print(f\" Error reading weight file ({e}). Using default weights.\")\n",
    "            weight_matrix = default_weight_matrix()\n",
    "    else:\n",
    "        print(\" No valid weight file provided. Using default weights.\")\n",
    "        weight_matrix = default_weight_matrix()\n",
    "\n",
    "    # Process mtDNA\n",
    "    try:\n",
    "        mtDNA_dict = read_fasta(mtDNA_file)\n",
    "        mtDNA_output = f\"{output_prefix}_mtDNA_scores.txt\"\n",
    "        write_results(mtDNA_dict, weight_matrix, mtDNA_output)\n",
    "        print(f\" mtDNA alignment results saved to: {mtDNA_output}\")\n",
    "    except Exception as e:\n",
    "        print(f\" Error processing mtDNA file: {e}\")\n",
    "\n",
    "    # Process Y chromosome\n",
    "    try:\n",
    "        Y_dict = read_fasta(Y_file)\n",
    "        Y_output = f\"{output_prefix}_Y_scores.txt\"\n",
    "        write_results(Y_dict, weight_matrix, Y_output)\n",
    "        print(f\" Y chromosome alignment results saved to: {Y_output}\")\n",
    "    except Exception as e:\n",
    "        print(f\" Error processing Y chromosome file: {e}\")\n",
    "\n",
    "    # Print summary\n",
    "    print(\"\\n Processing complete.\")\n",
    "    print(f\"Weight parameters used: {weight_matrix}\")\n",
    "\n",
    "if __name__ == \"__main__\":\n",
    "    main()\n"
   ]
  },
  {
   "cell_type": "markdown",
   "metadata": {
    "id": "0h4J5RJ9Mdtc"
   },
   "source": [
    "# Methods 2\n",
    "\n",
    "### Author: Yaqi Jiao\n"
   ]
  },
  {
   "cell_type": "markdown",
   "metadata": {
    "id": "_szQ6Le8FUM_"
   },
   "source": [
    "\n",
    "## 2.1: Genetic distance calculation\n",
    "\n",
    "Python script *‘build_similarity_distance.py’*` was written to perform genetic distance calculation. It takes the MSA file as an input, and generate 2 genetic distance matrices.\n"
   ]
  },
  {
   "cell_type": "markdown",
   "metadata": {
    "id": "WxDZyQpSRGBt"
   },
   "source": [
    "**Usage Example:**\n",
    "\n",
    "python build_similarity_matrix.py input_file identity_matrix alignment_matrix\n",
    "\n",
    "**NOTE: The order of the output files is meaningful**"
   ]
  },
  {
   "cell_type": "markdown",
   "metadata": {
    "id": "GC557uzlFmOy"
   },
   "source": [
    "The python package sys and pandas are required during processing. The packages are imported before."
   ]
  },
  {
   "cell_type": "markdown",
   "metadata": {
    "id": "ZWf3VwdZF9Oz"
   },
   "source": [
    "### 2.1.1: Load and convert of input MSA files\n",
    "\n",
    "The function *'load_MSA(input_file)'* is defined to read the input MSA file and convert it into a structured Pandas DataFrame.\n",
    "\n",
    "The header line is firstly skipped since it’s not tab-separated. The rest parts of each line are extracted, assigned to different variables, and appended into an empty list. After all elements are extracted and reassigned, the list is used to generate a DataFrame.\n"
   ]
  },
  {
   "cell_type": "code",
   "execution_count": 14,
   "metadata": {
    "id": "igNnlLIEGSck"
   },
   "outputs": [],
   "source": [
    "# process MSA data, build dataframe\n",
    "def load_MSA(input_file):\n",
    "    rows = []\n",
    "    try:\n",
    "        with open(input_file, \"r\") as f:\n",
    "            next(f)  # skip header\n",
    "            for line in f:\n",
    "                parts = line.strip().split()\n",
    "                if len(parts) < 6:\n",
    "                    print(f\"Warning: Skipping malformed line: {line}\")\n",
    "                    continue\n",
    "\n",
    "                # Extract sample names\n",
    "                try:\n",
    "                    for i, p in enumerate(parts):\n",
    "                        if \"_\" in p:\n",
    "                            SampleA_idx = i\n",
    "                            SampleA = \" \".join(parts[0 : SampleA_idx + 1])\n",
    "                            break\n",
    "                    for j in range(SampleA_idx + 1, len(parts)):\n",
    "                        if \"_\" in parts[j]:\n",
    "                            SampleB_idx = j\n",
    "                            SampleB = \" \".join(parts[SampleA_idx + 1 : SampleB_idx + 1])\n",
    "                            break\n",
    "\n",
    "                    numeric_parts = parts[SampleB_idx + 1 :]\n",
    "                    comparable = int(numeric_parts[0])\n",
    "                    uncertain = int(numeric_parts[1])\n",
    "                    total = int(numeric_parts[2])\n",
    "                    identity = float(numeric_parts[3].rstrip(\"%\"))\n",
    "                    score = float(numeric_parts[4])\n",
    "\n",
    "                    rows.append(\n",
    "                        [SampleA, SampleB, comparable, uncertain, total, identity, score]\n",
    "                    )\n",
    "                except Exception as e:\n",
    "                    print(f\"Warning: Skipping line due to parse error: {line}\\nError: {e}\")\n",
    "                    continue\n",
    "\n",
    "        df = pd.DataFrame(\n",
    "            rows,\n",
    "            columns=[\n",
    "                \"SampleA\",\n",
    "                \"SampleB\",\n",
    "                \"Comparable nucleotides\",\n",
    "                \"uncertain nucleotides\",\n",
    "                \"Total nucleotides\",\n",
    "                \"IdentityScore\",\n",
    "                \"Score\",\n",
    "            ],\n",
    "        )\n",
    "        return df\n",
    "\n",
    "    except FileNotFoundError:\n",
    "        sys.exit(f\"Error: Input file '{input_file}' not found.\")\n",
    "    except Exception as e:\n",
    "        sys.exit(f\"Error: Failed to load MSA file. Details: {e}\")"
   ]
  },
  {
   "cell_type": "markdown",
   "metadata": {
    "id": "mMGIn5s8Hi17"
   },
   "source": [
    "### 2.1.2: Calculation of genetic distance based on identify score\n",
    "\n",
    "The function *'calculate_identity_similarity(input_df)'* is defined to compute genetic distances from identity scores.\n",
    "\n",
    "It first converts the identity score from a percentage to a decimal and applies an error rate correction to account for potential genotyping errors (The average genotyping error rate is 0.1).\n",
    "\n",
    "The correction formula is:\n",
    "\n",
    "IdentityScore_corrected = IdentityScore – IdentityScore \\* error + IdentityScore * (1-error)\n",
    "\n",
    "The corrected identity score is then transformed into genetic distance using the formula:\n",
    "\n",
    "Genetic distance=1 – Corrected identity score\n",
    "\n",
    "An attempt was made to apply the Jukes–Cantor (JC) model to correct for multiple substitutions. However, this approach caused some pairwise distances to be abnormally inflated. This might happen because the JC model assumes equal base frequencies, no gaps, and no ambiguous nucleotides, while the actual data contain gaps and uncertain sites (“?”), which can cause the unreliability of JC model. Therefore, the genetic distances reported here are calculated based on the original distance (1 – corrected identity score) without further evolutionary model correction.\n",
    "\n"
   ]
  },
  {
   "cell_type": "code",
   "execution_count": 15,
   "metadata": {
    "id": "ng0MBwl5USiW"
   },
   "outputs": [],
   "source": [
    "def calculate_identity_similarity(input_df):\n",
    "    # Identity score correction (optional)\n",
    "    err = 0.1\n",
    "    # Remove the percent sign from the identity score and convert it to a decimal\n",
    "    input_df[\"IdentityScore\"] = input_df[\"IdentityScore\"].astype(float) / 100\n",
    "    # The adjusted identity score (IdentityScore_tr) is computed by reducing the original identity score by\n",
    "    # a fraction proportional to the error rate, and adding back a compensation term based on the remaining non-identity portion.\n",
    "    # Specifically, we subtract IdentityScore * err from the original value and add (1 - IdentityScore) * err.\n",
    "    input_df[\"IdentityScore_tr\"] = (\n",
    "        input_df[\"IdentityScore\"]\n",
    "        - input_df[\"IdentityScore\"] * err\n",
    "        + (1 - input_df[\"IdentityScore\"]) * err\n",
    "    )\n",
    "\n",
    "    input_df[\"genetic_distance_identity\"] = 1 - input_df[\"IdentityScore_tr\"]\n",
    "    clean_df = input_df[[\"SampleA\", \"SampleB\", \"genetic_distance_identity\"]]\n",
    "\n",
    "    return clean_df"
   ]
  },
  {
   "cell_type": "markdown",
   "metadata": {
    "id": "pVoyZQU1UXvu"
   },
   "source": [
    "### 2.1.3: Calculation of genetic distance based on alignment score\n",
    "\n",
    "The function *'calculate_alignment_similarity(input_df)'* is defined to compute genetic distances from alignment scores.\n",
    "\n",
    "For each sequence pair, the total alignment score is divided by the number of comparable nucleotides to obtain an average alignment score. These values are then normalized between 0 and 1 through the formula:\n",
    "\n",
    "Normalized_alignment_score = (average_alignment_score - min_score) / (max_score - min_score)\n",
    "\n",
    "Genetic distance is calculated as the same basic formula. No error correction is applied here, because the alignment score is the sum of the score of all kind of base matches."
   ]
  },
  {
   "cell_type": "code",
   "execution_count": 16,
   "metadata": {
    "id": "eMUFosPJUxhL"
   },
   "outputs": [],
   "source": [
    "def calculate_alignment_similarity(input_df):\n",
    "    # Calculate genetic distance by alignment score\n",
    "    # TODO: calculate average alignment score per comparable bases\n",
    "    # TODO: normalize the alignment score\n",
    "    input_df[\"ave_alignment_score\"] = (\n",
    "        input_df[\"Score\"] / input_df[\"Comparable nucleotides\"]\n",
    "    )\n",
    "    score_min = input_df[\"ave_alignment_score\"].min()\n",
    "    score_max = input_df[\"ave_alignment_score\"].max()\n",
    "    input_df[\"similarity\"] = (input_df[\"ave_alignment_score\"] - score_min) / (\n",
    "        score_max - score_min\n",
    "    )  # NOTE:(optional) clip the extreme 0 and 1 for pairs with max and min values\n",
    "\n",
    "    input_df[\"genetic_distance_alignment\"] = 1 - input_df[\"similarity\"]\n",
    "    clean_df = input_df[[\"SampleA\", \"SampleB\", \"genetic_distance_alignment\"]]\n",
    "\n",
    "    return clean_df"
   ]
  },
  {
   "cell_type": "markdown",
   "metadata": {
    "id": "n7Ka_oZfU0Qe"
   },
   "source": [
    "### 2.1.4: Create output file\n",
    "\n",
    "The function *'create_matrix(input_df)'* is defined to construct symmetric genetic distance matrices. The function '*ensure_tsv(filename)*' is defined to make sure the output is end with tsv for downstream analysis\n",
    "\n",
    "The resulting matrices are written to tab-separated files, ready for downstream analyses such as phylogenetic reconstruction."
   ]
  },
  {
   "cell_type": "code",
   "execution_count": 17,
   "metadata": {
    "id": "c0H4NtxSU7oQ"
   },
   "outputs": [],
   "source": [
    "def create_matrix(input_df):\n",
    "    try:\n",
    "        # Construct the final genetic distance matrix\n",
    "        labels = pd.concat(\n",
    "            [input_df[\"SampleA\"], input_df[\"SampleB\"]]\n",
    "        ).unique()  # Extrac all elements in data\n",
    "\n",
    "        gd_df = pd.DataFrame(\n",
    "            \".\", index=labels, columns=labels\n",
    "        )  # create an empty dataframe to store genetic distances\n",
    "\n",
    "        # fill the matrix\n",
    "        for idx, row in input_df.iterrows():\n",
    "            s1 = row[\"SampleA\"]\n",
    "            s2 = row[\"SampleB\"]\n",
    "            if \"genetic_distance_identity\" in input_df.columns:\n",
    "                s3 = row[\"genetic_distance_identity\"]\n",
    "            else:\n",
    "                s3 = row[\"genetic_distance_alignment\"]\n",
    "            # optional: Keep s3 to three decimal places\n",
    "            # s3 = round(s3, 3)\n",
    "\n",
    "            gd_df.at[s1, s2] = s3\n",
    "            gd_df.at[s2, s1] = s3\n",
    "\n",
    "        return gd_df\n",
    "    except KeyError as e:\n",
    "        sys.exit(f\"Error: Missing expected column in dataframe: {e}\")\n",
    "    except Exception as e:\n",
    "        sys.exit(f\"Error: Failed to create genetic distance matrix. Details: {e}\")\n",
    "\n",
    "def ensure_tsv(filename):\n",
    "    if not filename.lower().endswith(\".tsv\"):\n",
    "        filename += \".tsv\"\n",
    "    return filename"
   ]
  },
  {
   "cell_type": "markdown",
   "metadata": {
    "id": "md8CEa7lU-2C"
   },
   "source": [
    "### 2.1.5: Main Function"
   ]
  },
  {
   "cell_type": "markdown",
   "metadata": {
    "id": "oBWhjCdlPxMm"
   },
   "source": [
    "**NOTE**: This part below is **NOT** in the complete script (.py file)\n",
    "\n",
    "In the original script, parameters are passed via the command line, for example:  \n",
    "\n",
    "python script.py input.txt identity.txt alignment.txt\n",
    "\n",
    "However, when running in a Google Colab Notebook, there is no command-line environment, so sys.argv cannot be used directly.\n",
    "\n",
    "To make the script work in Colab, we manually define sys.argv within the Notebook. By changing the value of input_file_name, you can process different types of data."
   ]
  },
  {
   "cell_type": "code",
   "execution_count": 27,
   "metadata": {
    "colab": {
     "base_uri": "https://localhost:8080/"
    },
    "executionInfo": {
     "elapsed": 18372,
     "status": "ok",
     "timestamp": 1761774967547,
     "user": {
      "displayName": "Yaqi Jiao",
      "userId": "02323540990855938075"
     },
     "user_tz": -60
    },
    "id": "LLVH7h-feg6X",
    "outputId": "5f8a9bd4-78d6-4151-8913-503a32d7029e"
   },
   "outputs": [
    {
     "name": "stdin",
     "output_type": "stream",
     "text": [
      "Please enter the input file name(results_mtDNA_scores.txt or results_Y_scores.txt)： results_Y_scores.txt\n",
      "Please enter the name to generate identity score matrix (or leave blank for default)： \n",
      "Please enter the name to generate alignment score matrix (or leave blank for default): \n"
     ]
    }
   ],
   "source": [
    "input_file_name = input(\"Please enter the input file name(results_mtDNA_scores.txt or results_Y_scores.txt)：\")  # TODO: what input file???\n",
    "output_id_name = input(\"Please enter the name to generate identity score matrix (or leave blank for default)：\")\n",
    "output_align_name = input(\"Please enter the name to generate alignment score matrix (or leave blank for default):\")\n",
    "sys.argv = [\"notebook\", input_file_name, output_id_name, output_align_name]"
   ]
  },
  {
   "cell_type": "code",
   "execution_count": 28,
   "metadata": {
    "colab": {
     "base_uri": "https://localhost:8080/"
    },
    "executionInfo": {
     "elapsed": 51,
     "status": "ok",
     "timestamp": 1761774970214,
     "user": {
      "displayName": "Yaqi Jiao",
      "userId": "02323540990855938075"
     },
     "user_tz": -60
    },
    "id": "GxMAwiOXVBjJ",
    "outputId": "b8867eec-f828-4908-8b23-2179aef99a72"
   },
   "outputs": [
    {
     "name": "stdout",
     "output_type": "stream",
     "text": [
      "Input file: results_Y_scores.txt\n",
      "Identity matrix: results_Y_scores_identity_matrix.tsv\n",
      "Alignment matrix: results_Y_scores_alignment_matrix.tsv\n",
      "Identity matrix saved to: /home/inf-33-2025/Desktop/Courses/MiscExercisesBINP16/RunningExercise3_BINP16/REIII_CV_YJ_OET/results_Y_scores_identity_matrix.tsv\n",
      "Alignment matrix saved to: /home/inf-33-2025/Desktop/Courses/MiscExercisesBINP16/RunningExercise3_BINP16/REIII_CV_YJ_OET/results_Y_scores_alignment_matrix.tsv\n",
      "Finish\n"
     ]
    }
   ],
   "source": [
    "# Access arguments passed from the command line written in the terminal\n",
    "# check we have 4 arguements: the python script, input file, output_identity_matrix and output_alignment_matrix\n",
    "def main():\n",
    "    if len(sys.argv) < 2:\n",
    "        sys.exit(\"Error: You must provide the input file as the first argument.\")\n",
    "    input_file = sys.argv[1]\n",
    "\n",
    "    base_name = os.path.splitext(os.path.basename(input_file))[0]\n",
    "    output_identity_matrix = sys.argv[2] if len(sys.argv) > 2 and sys.argv[2].strip() else f\"{base_name}_identity_matrix.tsv\"\n",
    "    output_alignment_matrix = sys.argv[3] if len(sys.argv) > 3 and sys.argv[3].strip() else f\"{base_name}_alignment_matrix.tsv\"\n",
    "\n",
    "    print(f\"Input file: {input_file}\")\n",
    "    print(f\"Identity matrix: {output_identity_matrix}\")\n",
    "    print(f\"Alignment matrix: {output_alignment_matrix}\")\n",
    "\n",
    "    # open and read input file\n",
    "    # Confirm the data type of the input file\n",
    "    df = load_MSA(input_file)\n",
    "    out_identity_matrix = calculate_identity_similarity(df)\n",
    "    out_alignment_matrix = calculate_alignment_similarity(df)\n",
    "\n",
    "    gd_identity_df = create_matrix(out_identity_matrix)\n",
    "    gd_alignment_df = create_matrix(out_alignment_matrix)\n",
    "\n",
    "    # Write the matrix to the output file\n",
    "    output_identity_matrix = ensure_tsv(output_identity_matrix)\n",
    "    try:\n",
    "        gd_identity_df.to_csv(output_identity_matrix, sep=\"\\t\", index=True)\n",
    "        saved_identity_path = os.path.abspath(output_identity_matrix)\n",
    "        print(f\"Identity matrix saved to: {saved_identity_path}\")\n",
    "    except Exception as e:\n",
    "        sys.exit(f\"Error saving identity matrix: {e}\")\n",
    "\n",
    "    output_alignment_matrix = ensure_tsv(output_alignment_matrix)\n",
    "    try:\n",
    "        gd_alignment_df.to_csv(output_alignment_matrix, sep=\"\\t\", index=True)\n",
    "        saved_alignment_path = os.path.abspath(output_alignment_matrix)\n",
    "        print(f\"Alignment matrix saved to: {saved_alignment_path}\")\n",
    "    except Exception as e:\n",
    "        sys.exit(f\"Error saving alignment matrix: {e}\")\n",
    "\n",
    "\n",
    "    print(\"Finish\")\n",
    "\n",
    "\n",
    "if __name__ == \"__main__\":\n",
    "    main()"
   ]
  },
  {
   "cell_type": "markdown",
   "metadata": {
    "id": "23SZDFy6FdYS"
   },
   "source": [
    "## 2.2: Interactive similarity query\n",
    "\n",
    "Python script *‘most_similar.py’* is defined to allow users to query the most genetically similar samples from the MSA output file."
   ]
  },
  {
   "cell_type": "markdown",
   "metadata": {
    "id": "dkh8rGS8VTOR"
   },
   "source": [
    "**Usage Example:**\n",
    "\n",
    "python most_similar.py input_file All/Name output_file [optional]\n",
    "\n",
    "\n",
    "For reference:\n",
    "\n",
    "valid_names = [\n",
    "        \"Princess Irene\", \"Prince Fred\", \"Nicolas II Romanov\", \"Alexandra Romanov\",\n",
    "        \"Olga Romanov\", \"Tatiana Romanov\", \"Maria Romanov\", \"Alexei Romanov\",\n",
    "        \"Suspected body of Anastasia Romanov\", \"Anastasia1\", \"Anastasia2\",\n",
    "        \"Anastasia3\", \"Anastasia4 son\", \"Anastasia5\", \"Farmers grandson\",\n",
    "        \"Grigori Rasputin\"\n",
    "    ]\n",
    "\n",
    "**NOTE:** In this colab, you don't need to put name in \"\", but if you are running a script, the name should be enclosed in \"\".\n"
   ]
  },
  {
   "cell_type": "markdown",
   "metadata": {
    "id": "N5WtgZRxVHrU"
   },
   "source": [
    "The python package sys, os, pandas, and load_MSA from 2.1 are required during processing"
   ]
  },
  {
   "cell_type": "markdown",
   "metadata": {
    "id": "JA4I-pVLVlND"
   },
   "source": [
    "### 2.2.1: Sample information Storation\n",
    "\n",
    "\n",
    "name_library_dict is used to store names and informations of samples. The function *'name_library(name_mode)'* is used to recogonize the input of name, and print hints\n"
   ]
  },
  {
   "cell_type": "code",
   "execution_count": 23,
   "metadata": {
    "id": "LTCX---7WCtl"
   },
   "outputs": [],
   "source": [
    "# Store name and description information\n",
    "name_library_dict = {'Princess Irene': 'princess Anastasia\\' aunt',\n",
    "                    'Prince Fred': 'princess Anastasia\\' uncle',\n",
    "                    'Nicolas II Romanov': 'princess Anastasia\\' father',\n",
    "                    'Alexandra Romanov': 'princess Anastasia\\' mother',\n",
    "                    'Olga Romanov': 'princess Anastasia\\' sister',\n",
    "                    'Tatiana Romanov': 'princess Anastasia\\' sister',\n",
    "                    'Maria Romanov': 'princess Anastasia\\' sister',\n",
    "                    'Alexei Romanov': 'princess Anastasia\\' brother',\n",
    "                    'Suspected body of Anastasia Romanov': 'the body of princess Anastasia?',\n",
    "                    'Anastasia1': 'the candidate1 for princess Anastasia',\n",
    "                    'Anastasia2': 'the candidate2 for princess Anastasia',\n",
    "                    'Anastasia3': 'the candidate3 for princess Anastasia',\n",
    "                    'Anastasia4 son': 'the son of the candidate4 for princess Anastasia',\n",
    "                    'Anastasia5': 'the candidate5 for princess Anastasia',\n",
    "                    'Farmers grandson': 'the grandson of a farmer, who admitted to having witnessed the murder',\n",
    "                    'Grigori Rasputin': 'a Russian peasant and a questionable doctor who spent much time drinking'}\n",
    "\n",
    "\n",
    "def name_library(name_mode):\n",
    "    if name_mode == \"ALL\":\n",
    "        print(\"You have choose to see the mystery of the whole ROMANOV family\\n\")\n",
    "        return\n",
    "    if name_mode in name_library_dict:\n",
    "        description = name_library_dict.get(name_mode)\n",
    "        print(f\"Great! You choose {name_mode}. This is {description}\\n\")\n",
    "    else:\n",
    "        print(\"Wrong input! Try again.\\n\")"
   ]
  },
  {
   "cell_type": "markdown",
   "metadata": {
    "id": "xH8jmkG3WFIE"
   },
   "source": [
    "### 2.2.2: process user inputs\n",
    "\n",
    "The functions *'process_name(df_file, name, col3)'* and *'process_all(df_file, col3)'* are defined to handle user input. The function *'print_mode(score_mode)'* are defined to take the user inputs ('identity' or 'alignment'), to choose the 3rd column in the output file.\n",
    "\n",
    "For a single name, the script extracts the pairwise comparisons including that sample and selects the row(s) with the highest similarity. For \"ALL\" input, all pairwise similarity values are retrieved. The function *'put_name_first(df_file, name)'* makes sure the queried sample always in the first column.\n",
    "\n"
   ]
  },
  {
   "cell_type": "code",
   "execution_count": 24,
   "metadata": {
    "id": "AtlAGYSHWrrN"
   },
   "outputs": [],
   "source": [
    "# ask users to decide which data to show in the output\n",
    "def print_mode(score_mode):\n",
    "    if score_mode == \"identity\":\n",
    "        return 'IdentityScore'\n",
    "    elif score_mode == \"alignment\":\n",
    "        return 'Score'\n",
    "    else:\n",
    "        print(\"Wrong input!  Type 'identity' or 'alignment'\")\n",
    "\n",
    "# if only a name in query, make sure it's in the 1st column in output data\n",
    "def put_name_first(df_file, name):\n",
    "    df_new = df_file.copy()\n",
    "    for idx, row in df_new.iterrows():\n",
    "        if row['SampleB'] == name:\n",
    "            df_new.at[idx, 'SampleA'], df_new.at[idx, 'SampleB'] = row['SampleB'], row['SampleA']\n",
    "\n",
    "    return df_new\n",
    "\n",
    "\n",
    "# process single name\n",
    "def process_name(df_file, name, col3):\n",
    "    # extract the line with query name, and the largest IdentityScore\n",
    "    subset = df_file[(df_file['SampleA'] == name) | (df_file['SampleB'] == name)]\n",
    "    max_val = subset[col3].max()\n",
    "    filered_line = subset[subset[col3] == max_val]\n",
    "    sorted_line = put_name_first(filered_line, name)\n",
    "    usr_output = pd.DataFrame(sorted_line, columns=['SampleA', 'SampleB', col3])  # Create DataFrame\n",
    "    return usr_output\n",
    "\n",
    "# process ALL\n",
    "def process_all(df_file, col3):\n",
    "    usr_output = df_file[['SampleA', 'SampleB', col3]]\n",
    "    return usr_output\n"
   ]
  },
  {
   "cell_type": "markdown",
   "metadata": {
    "id": "05JWPMY1WxBi"
   },
   "source": [
    "### 2.2.3: Main function\n",
    "\n",
    "Procedure:\n",
    "\n",
    "  1. proces the user input information in termal command, print hints, check whether the output file name is set, check the name from inputs (all or specific)\n",
    "\n",
    "  2. process data\n",
    "\n",
    "  3. write outputs. The processed data are saved as a tab-separated output file. If the user did not provide an output filename, a default similarity_output.tsv is generated."
   ]
  },
  {
   "cell_type": "markdown",
   "metadata": {
    "id": "SVHuXFJLY-V4"
   },
   "source": [
    "**NOTE**:\n",
    "\n",
    "Due to the same reason explained in 2.1.5, this part below is NOT in the complete script (.py file)"
   ]
  },
  {
   "cell_type": "code",
   "execution_count": 25,
   "metadata": {
    "colab": {
     "base_uri": "https://localhost:8080/"
    },
    "executionInfo": {
     "elapsed": 17952,
     "status": "ok",
     "timestamp": 1761774998827,
     "user": {
      "displayName": "Yaqi Jiao",
      "userId": "02323540990855938075"
     },
     "user_tz": -60
    },
    "id": "BCk9bZi8YX85",
    "outputId": "21de460b-033c-4912-fb7c-41b72564a61c"
   },
   "outputs": [
    {
     "name": "stdin",
     "output_type": "stream",
     "text": [
      "Please enter the input file name:  results_mtDNA_scores.txt\n",
      "Please enter the name to analyze (or 'ALL') ALL\n",
      "Please enter the output file name (leave blank for default):  \n"
     ]
    }
   ],
   "source": [
    "input_file_name = input(\"Please enter the input file name: \").strip()\n",
    "name_mode = input(\"Please enter the name to analyze (or 'ALL')\").strip()\n",
    "output_file = input(\"Please enter the output file name (leave blank for default): \").strip()\n",
    "sys.argv = [\"notebook\", input_file_name, name_mode, output_file]"
   ]
  },
  {
   "cell_type": "code",
   "execution_count": 26,
   "metadata": {
    "colab": {
     "base_uri": "https://localhost:8080/"
    },
    "executionInfo": {
     "elapsed": 2827,
     "status": "ok",
     "timestamp": 1761775014067,
     "user": {
      "displayName": "Yaqi Jiao",
      "userId": "02323540990855938075"
     },
     "user_tz": -60
    },
    "id": "j5Ks_z-SYKRQ",
    "outputId": "d9862fd4-4bf0-4dce-e755-bae261af1e87"
   },
   "outputs": [
    {
     "name": "stdout",
     "output_type": "stream",
     "text": [
      "Welcome to the mystery of ROMANOV family\n",
      "\n",
      "♡ ✧*｡♡ ✧*｡♡ ✧*｡♡ ✧*｡♡ ✧*｡♡ ✧*｡\n",
      " \n",
      "You have choose to see the mystery of the whole ROMANOV family\n",
      "\n",
      "You are checking the mtDNA similarity\n",
      "============================================\n",
      "\n"
     ]
    },
    {
     "name": "stdin",
     "output_type": "stream",
     "text": [
      "Type 'identity' or 'alignment':\n",
      " identity\n"
     ]
    },
    {
     "name": "stdout",
     "output_type": "stream",
     "text": [
      "============================================\n",
      "\n",
      "\n",
      "Since you didn't set the output file name, it created as default 'similarity_output.tsv'\n",
      "\n",
      "Your output file is saved at /home/inf-33-2025/Desktop/Courses/MiscExercisesBINP16/RunningExercise3_BINP16/REIII_CV_YJ_OET/similarity_output.tsv\n",
      "Go and check! ๐•ᴗ•๐\n"
     ]
    }
   ],
   "source": [
    "def main():\n",
    "    if len(sys.argv) < 3:  # Validate command-line arguments\n",
    "        print(\"Usage: script.py <input> [output_file]\")\n",
    "        sys.exit(1)\n",
    "    else:\n",
    "        input_file = sys.argv[1]\n",
    "        name_mode = sys.argv[2]\n",
    "        output_file = sys.argv[3] if len(sys.argv) == 4 else None\n",
    "\n",
    "    # print promopts\n",
    "    print(\"Welcome to the mystery of ROMANOV family\\n\")\n",
    "    print(\"♡ ✧*｡♡ ✧*｡♡ ✧*｡♡ ✧*｡♡ ✧*｡♡ ✧*｡\\n \")\n",
    "\n",
    "    # check if the name is valid\n",
    "    valid_names = list(name_library_dict.keys())\n",
    "\n",
    "    if name_mode.strip().lower() == \"all\":\n",
    "        name_mode = \"ALL\"\n",
    "    elif name_mode not in valid_names:\n",
    "        print(f\"\\nERROR: The name '{name_mode}' is not in the dataset!\")\n",
    "        print(\"Please enter one of the following names, or 'ALL':\\n\")\n",
    "        print(f\"{valid_names}\")\n",
    "        sys.exit(1)\n",
    "\n",
    "    name_library(name_mode)\n",
    "\n",
    "    filename_only = os.path.basename(input_file)\n",
    "\n",
    "    # determine if the name is in data (gender)\n",
    "    male = ['Prince Fred', 'Nicolas II Romanov', 'Alexei Romanov', 'Anastasia4 son',\n",
    "            'Farmers grandson', 'Grigori Rasputin' ]\n",
    "\n",
    "    if 'mtdna' in filename_only.lower():\n",
    "        print(\"You are checking the mtDNA similarity\")\n",
    "    else:\n",
    "        print(\"You are checking the YDNA data\")\n",
    "        if name_mode != 'ALL' and name_mode not in male:\n",
    "            print(\"\\nWARNING: The name you type is female: no YDNA data avaliable!\")\n",
    "            print(f\"reference:{male}\\n\")\n",
    "            sys.exit(1)\n",
    "\n",
    "    print(\"============================================\\n\")\n",
    "    score_mode = input(\"Type 'identity' or 'alignment':\\n\").strip().lower()\n",
    "    if score_mode not in [\"identity\", \"alignment\"]:\n",
    "        print(\"Invalid input! Please type 'identity' or 'alignment'\")\n",
    "        sys.exit()\n",
    "\n",
    "    try:\n",
    "        gd_df = load_MSA(input_file)  # convert txt.format input into df format\n",
    "    except Exception as e:\n",
    "        sys.exit(f\"Error loading input file: {e}\")\n",
    "\n",
    "    # remove the '_mtDNA' and 'ydna' suffix after people names\n",
    "    try:\n",
    "        gd_df['SampleA'] = gd_df['SampleA'].str.replace(r'_mtDNA|_Y','',regex=True)\n",
    "        gd_df['SampleB'] = gd_df['SampleB'].str.replace(r'_mtDNA|_Y','',regex=True)\n",
    "    except Exception as e:\n",
    "        sys.exit(f\"Error processing sample names: {e}\")\n",
    "\n",
    "    col3 = print_mode(score_mode)\n",
    "\n",
    "    ## process data\n",
    "    if name_mode == 'ALL':\n",
    "        result = process_all(gd_df, col3)\n",
    "    else:\n",
    "        result = process_name(gd_df, name_mode, col3)\n",
    "\n",
    "    if score_mode == 'identity':  # if user choose identity score, add back '%'\n",
    "        result = result.copy()\n",
    "        result[col3] = result[col3].astype(str) + '%'\n",
    "\n",
    "    print(\"============================================\\n\")\n",
    "    if output_file:\n",
    "        result.to_csv(output_file, sep=\"\\t\", index=False)\n",
    "        saved_path = os.path.abspath(output_file)\n",
    "    else:  # if no output_file, save default name\n",
    "        default_file = \"similarity_output.tsv\"\n",
    "        print(\"\\nSince you didn't set the output file name, it created as default 'similarity_output.tsv'\")\n",
    "        result.to_csv(default_file, sep=\"\\t\", index=False)\n",
    "        saved_path = os.path.abspath(default_file)\n",
    "    print(f\"\\nYour output file is saved at {saved_path}\\nGo and check! ๐•ᴗ•๐\")\n",
    "\n",
    "\n",
    "if __name__ == \"__main__\":\n",
    "    main()"
   ]
  },
  {
   "cell_type": "markdown",
   "metadata": {
    "id": "xH8Lq_B0MnDL"
   },
   "source": [
    "# Methods 3\n",
    "\n",
    "### Author: Oliver Ekström Todreas"
   ]
  },
  {
   "cell_type": "markdown",
   "metadata": {
    "id": "pkck0q6ayDf-"
   },
   "source": [
    "## 3.1: `CalculateHapmap.py`\n",
    "\n",
    "The cells below calculate hapmaps for a given input file by extracting DNA sequences by chromosome location and calculating allele frequencies at each position."
   ]
  },
  {
   "cell_type": "code",
   "execution_count": 32,
   "metadata": {
    "id": "n-BjFB16NMtu"
   },
   "outputs": [],
   "source": [
    "# User inputs\n",
    "input_file = \"Input_Data/GeneticData.txt\"  # TODO: hint user to what input file is needed\n",
    "chromo_name = \"mtDNA\"\n",
    "output_file = \"hapmap.tsv\""
   ]
  },
  {
   "cell_type": "code",
   "execution_count": 33,
   "metadata": {
    "colab": {
     "base_uri": "https://localhost:8080/"
    },
    "executionInfo": {
     "elapsed": 3951,
     "status": "ok",
     "timestamp": 1761777255936,
     "user": {
      "displayName": "Oliver Ekström Todreas",
      "userId": "17457849058014984055"
     },
     "user_tz": -60
    },
    "id": "VNAeU7ZAF1hK",
    "outputId": "9079f16a-2ab6-4483-8c46-6d0eaccac361"
   },
   "outputs": [],
   "source": [
    "# Input handling\n",
    "\n",
    "# Set user-assigned variables\n",
    "if not output_file.endswith(\".tsv\"):\n",
    "      sys.exit(\"The output file path must be a .tsv file.\")\n",
    "# Check that input_file exists\n",
    "if not os.path.isfile(input_file):\n",
    "    sys.exit(\"Input file does not exist\")\n",
    "\n",
    "# Get valid chromosome names from the user\n",
    "valid_chromo_names = [\"mtDNA\", \"Y_chromosome\"]\n",
    "\n",
    "while chromo_name not in valid_chromo_names:\n",
    "    chromo_name = input(\n",
    "        f\"Invalid chromosome name. Please enter one of the following chromosome names: {valid_chromo_names}, or 'abort' to exit: \"\n",
    "    )\n",
    "    if chromo_name.lower() == \"abort\":\n",
    "        sys.exit(\"Program aborted.\")\n",
    "\n",
    "# Replace \"_\" with \" \" to match data\n",
    "chromo_name = chromo_name.replace(\"_\", \" \")"
   ]
  },
  {
   "cell_type": "code",
   "execution_count": 34,
   "metadata": {
    "id": "bxEECrGwNTnf"
   },
   "outputs": [],
   "source": [
    "# Custom functions\n",
    "\n",
    "def read_chromosomes(input_file, chromo_name):\n",
    "    # Open input file as binary\n",
    "    with open(input_file, \"rb\") as f:\n",
    "        # Assign variables\n",
    "        chromo_line = None\n",
    "        i = 0\n",
    "        seqs = []\n",
    "\n",
    "        # Read lines to strings. Clean and append lines after chromosome header to data.\n",
    "        while True:\n",
    "            line_b = f.readline()\n",
    "            line = str(line_b)\n",
    "\n",
    "            # The chromosome data will be on the line following the chromosome name.\n",
    "            if chromo_name in line:\n",
    "                chromo_line = i + 1\n",
    "            if i == chromo_line:\n",
    "                clean_line = line[\n",
    "                    2 : line.find(\"\\\\\")\n",
    "                ]  # since files are read in binary, the first two characters will always be 'b.\n",
    "                seqs.append(clean_line)\n",
    "            i += 1\n",
    "            if not line_b:\n",
    "                break\n",
    "\n",
    "        return seqs"
   ]
  },
  {
   "cell_type": "code",
   "execution_count": 35,
   "metadata": {
    "colab": {
     "base_uri": "https://localhost:8080/"
    },
    "executionInfo": {
     "elapsed": 25,
     "status": "ok",
     "timestamp": 1761777260755,
     "user": {
      "displayName": "Oliver Ekström Todreas",
      "userId": "17457849058014984055"
     },
     "user_tz": -60
    },
    "id": "DihCuv1AM2so",
    "outputId": "ae60d9e5-137c-42f9-8e53-e81877aebdee"
   },
   "outputs": [
    {
     "name": "stdout",
     "output_type": "stream",
     "text": [
      "Chromosome\tPosition\tAlleles\tMajor Allele\tMinor Allele\tMinor Allele Frequency\n",
      "mtDNA\t1\tA/G/C\tC\tA\t0.15\n",
      "mtDNA\t2\tA/T/G/C\tC\tT\t0.08\n",
      "mtDNA\t3\tA/G\tG\tA\t0.44\n",
      "mtDNA\t4\tA/G/T\tG\tT\t0.17\n",
      "mtDNA\t5\tA/T/G\tA\tG\t0.2\n",
      "mtDNA\t6\tA/G/C\tG\tC\t0.1\n",
      "mtDNA\t7\tA/G\tG\tA\t0.25\n",
      "mtDNA\t8\tG/C\tC\tG\t0.15\n",
      "mtDNA\t9\tT/C/G\tT\tC\t0.09\n",
      "mtDNA\t10\tA/G/C\tA\tG\t0.1\n",
      "mtDNA\t11\tA/G/T\tG\tA\t0.12\n",
      "mtDNA\t12\tA/G/C\tC\tG\t0.12\n",
      "mtDNA\t13\tT/G\tT\tG\t0.18\n",
      "mtDNA\t14\tA/G/C\tA\tG\t0.08\n",
      "mtDNA\t15\tA/G/T/C\tG\tC\t0.11\n",
      "mtDNA\t16\tA/G/C\tC\tA\t0.09\n",
      "mtDNA\t17\tA/T/C\tA\tT\t0.08\n",
      "mtDNA\t18\tA/T/C\tT\tC\t0.08\n",
      "mtDNA\t19\tA/T\tA\tT\t0.09\n",
      "mtDNA\t20\tA/G\tG\tA\t0.08\n",
      "mtDNA\t21\tT/G/C\tC\tG\t0.1\n",
      "mtDNA\t22\tA/T/G\tT\tG\t0.08\n",
      "mtDNA\t23\tA/T/G\tA\tG\t0.15\n",
      "mtDNA\t24\tA/G/T\tG\tT\t0.18\n",
      "mtDNA\t25\tT/C\tC\tT\t0.23\n",
      "Output saved to /home/inf-33-2025/Desktop/Courses/MiscExercisesBINP16/RunningExercise3_BINP16/REIII_CV_YJ_OET/output_file.tsv\n"
     ]
    }
   ],
   "source": [
    "# Program logic\n",
    "seqs = read_chromosomes(input_file, chromo_name)\n",
    "\n",
    "# Check that at least one sequence was found\n",
    "if len(seqs) < 3:\n",
    "    sys.exit(\n",
    "        f\"Error: too few (<3) chromosomes of '{chromo_name}' found. File corrupted?\"\n",
    "    )\n",
    "\n",
    "# Get the lengths of each sequence, check that they are equal, assign it to the variable positions.\n",
    "seq_lens = []\n",
    "for seq in seqs:\n",
    "    seq_lens.append(len(seq))\n",
    "if len(set(seq_lens)) > 1:\n",
    "    sys.exit(f\"Error: sequences for '{chromo_name}' have different lengths.\")\n",
    "else:\n",
    "    positions = seq_lens[0]\n",
    "\n",
    "\n",
    "### Perform calculations and write data ###\n",
    "\n",
    "# Assign variables\n",
    "header = [\n",
    "    \"Chromosome\",\n",
    "    \"Position\",\n",
    "    \"Alleles\",\n",
    "    \"Major Allele\",\n",
    "    \"Minor Allele\",\n",
    "    \"Minor Allele Frequency\",\n",
    "]\n",
    "row_written = False\n",
    "total_positions = positions * len(seqs)\n",
    "total_nucleotides = 0\n",
    "\n",
    "# Loop through positions\n",
    "for p in range(positions):\n",
    "    # Assign empty list to nucleotides, where valid nucleotides at position p will be stored.\n",
    "    nucleotides = []\n",
    "\n",
    "    # Loop through sequences\n",
    "    for seq in seqs:\n",
    "        # Append nucleotide list nucleotides\n",
    "        if seq[p].upper() in \"ACGT\":\n",
    "            nucleotides.append(seq[p].upper())\n",
    "\n",
    "    # Throw warning if no valid nucleotides were found at position p.\n",
    "    if len(nucleotides) == 0:\n",
    "        print(f\"Warning: no valid nucleotides found at position {p + 1}\")\n",
    "\n",
    "    # If multiple different nucleotides were found at the position, calculate statistics.\n",
    "    elif nucleotides.count(nucleotides[0]) < len(nucleotides):\n",
    "        # get unique nucleotides.\n",
    "        alleles = set(nucleotides)\n",
    "\n",
    "        # Store nucleotide frequencies by allele in the dictionary freqs.\n",
    "        freqs = {}\n",
    "        for allele in alleles:\n",
    "            freqs[allele] = nucleotides.count(allele)\n",
    "\n",
    "        # Since alleles is a set, sort the dictionary for reproducibility\n",
    "        freqs = dict(sorted(freqs.items()))\n",
    "\n",
    "        # Find major alleles, minor alleles, and minor frequency of alleles.\n",
    "        # Ensure random selection if multiple major or minor alleles have the same frequency.\n",
    "        major_alleles = []\n",
    "        minor_alleles = []\n",
    "        for allele in freqs.keys():\n",
    "            if freqs[allele] == max(list(freqs.values())):\n",
    "                major_alleles.append(allele)\n",
    "            if freqs[allele] == min(list(freqs.values())):\n",
    "                minor_alleles.append(allele)\n",
    "        major_allele = random.choice(major_alleles)\n",
    "\n",
    "        if major_allele in minor_alleles:\n",
    "            minor_alleles.pop(\n",
    "                minor_alleles.index(major_allele)\n",
    "            )  # when all allele frequencies are equal, ensure the same allele cannot be both major and minor.\n",
    "        minor_allele = random.choice(minor_alleles)\n",
    "        minor_allele_freq = freqs[minor_allele] / sum(\n",
    "            freqs[allele] for allele in alleles\n",
    "        )\n",
    "        row = (\n",
    "            \"\\t\".join(\n",
    "                [\n",
    "                    chromo_name,\n",
    "                    str(p),\n",
    "                    \"/\".join(alleles),\n",
    "                    str(major_allele),\n",
    "                    str(minor_allele),\n",
    "                    str(round(minor_allele_freq, 2)),\n",
    "                ]\n",
    "            )\n",
    "            + \"\\n\"\n",
    "        )\n",
    "\n",
    "        # Update total_nucleotides\n",
    "        total_nucleotides += sum(freqs.values())\n",
    "\n",
    "        # Write output file, including the header if writing the first row.\n",
    "        if not row_written:\n",
    "            with open(output_file, \"w\") as f:\n",
    "                header_row = \"\\t\".join(header) + \"\\n\" + row\n",
    "                f.write(header_row)\n",
    "\n",
    "                # Print data for inspection and update row_written to avoid re-writing the header.\n",
    "                print(header_row.strip())\n",
    "                row_written = True\n",
    "        else:\n",
    "            with open(output_file, \"a\") as f:\n",
    "                f.write(row)\n",
    "\n",
    "                # Print data for inspection.\n",
    "                print(row.strip())\n",
    "\n",
    "# Print location of saved file.\n",
    "print(f\"Output saved to {os.path.join(os.getcwd(), output_file)}\")\n",
    "\n",
    "# Warn the user of low-quality data if less than 25% of positions contain valid nucleotides\n",
    "pct_nucleotides = total_nucleotides / total_positions\n",
    "if pct_nucleotides < 0.25:\n",
    "    print(\n",
    "        f\"Warning: {round(pct_nucleotides * 100, 2)}% of positions in the dataset contain valid nucleotides\"\n",
    "    )"
   ]
  },
  {
   "cell_type": "markdown",
   "metadata": {
    "id": "c4Gh9dTt1bOD"
   },
   "source": [
    "## 3.2: `PlotDistMatrices.py`\n",
    "\n",
    "The cells below create dendrograms and heatmaps given input data in the form of 2-dimensional identity matrices."
   ]
  },
  {
   "cell_type": "code",
   "execution_count": 36,
   "metadata": {
    "id": "QlIPMq961a61"
   },
   "outputs": [],
   "source": [
    "# User inputs\n",
    "\n",
    "# pass a list containing <= 4 file names or a list containing 1 directory to manual_input_files\n",
    "manual_input_files = [\n",
    "    \"results_mtDNA_scores_alignment_matrix.tsv\",\n",
    "    \"results_mtDNA_scores_identity_matrix.tsv\",\n",
    "    \"results_Y_scores_alignment_matrix.tsv\",\n",
    "    \"results_Y_scores_identity_matrix.tsv\"\n",
    "    ]\n"
   ]
  },
  {
   "cell_type": "code",
   "execution_count": 37,
   "metadata": {
    "id": "bwb5JTS83eio"
   },
   "outputs": [],
   "source": [
    "# Input handling\n",
    "\n",
    "# Set user-assigned variables\n",
    "if len(manual_input_files) > 4:\n",
    "    sys.exis(\"Too many arguments. Please pass at most four input files.\")\n",
    "\n",
    "# One argument passed:\n",
    "elif len(manual_input_files) < 2:\n",
    "    # Check if the sole argument is a directory.\n",
    "    if os.path.isdir(manual_input_files[0]):\n",
    "        # Get .tsv files\n",
    "        tsv_files = [f for f in os.listdir(manual_input_files[0]) if f.endswith(\".tsv\")]\n",
    "\n",
    "        # Check that the directory contains no more than 4 .tsv files.\n",
    "        if len(tsv_files) <= 4:\n",
    "            # Create empty list input_files to store filepaths in.\n",
    "            input_files = [\"\"] * len(tsv_files)\n",
    "            # Loop through the filepaths in the directory passed and add them to input_files\n",
    "            for i, f in enumerate(tsv_files):\n",
    "                input_files[i] = os.path.join(manual_input_files[0], f)\n",
    "        else:\n",
    "            sys.exit(f\"Too many files in {manual_input_files[0]}\")\n",
    "    # One file was passed to the program:\n",
    "    else:\n",
    "        input_files = manual_input_files\n",
    "\n",
    "# Multiple files were passed:\n",
    "else:\n",
    "    input_files = [\"\"] * len(manual_input_files)\n",
    "    for i in range(len(input_files)):\n",
    "        input_files[i] = manual_input_files[i]\n",
    "\n",
    "# Loop through input_files and check for invalid files.\n",
    "for f in input_files:\n",
    "    nonexistent_files = []\n",
    "    nontsv_files = []\n",
    "    if not os.path.isfile(f):\n",
    "        nonexistent_files.append(f)\n",
    "\n",
    "    # Check that input_file is a .tsv file:\n",
    "    if not f.endswith(\".tsv\"):\n",
    "        nontsv_files.append(f)\n",
    "\n",
    "# Print errors.\n",
    "if len(nonexistent_files) > 0:\n",
    "    sys.exit(\n",
    "        f\"The following files do not exist or are directories: {nonexistent_files}\"\n",
    "    )\n",
    "if len(nontsv_files) > 0:\n",
    "    sys.exit(f\"The following files are not tsv files: {nontsv_files}\")"
   ]
  },
  {
   "cell_type": "code",
   "execution_count": 41,
   "metadata": {
    "id": "9uJ88SgF5mfK"
   },
   "outputs": [],
   "source": [
    "# Custom functions and classes\n",
    "\n",
    "# User can type \"Abort\" at any time and abort the program.\n",
    "def abort(user_input):\n",
    "    if user_input.lower() == \"abort\" or user_input.lower() == \"exit\":\n",
    "        sys.exit(\"Program aborted.\")\n",
    "    else:\n",
    "        return user_input\n",
    "\n",
    "\n",
    "# Class for list of input files.\n",
    "class Matrix_Files_Metadata:\n",
    "    def __init__(self, input_files):\n",
    "        self.input_files = input_files\n",
    "\n",
    "    # When printing, return input_files\n",
    "    def __str__(self):\n",
    "        return str(self.input_files)\n",
    "\n",
    "    # Getting metadata (chromosome counts, metric counts)\n",
    "    def get_metadata(self):\n",
    "        # user input interface\n",
    "        chromosomes = []\n",
    "        metrics = []\n",
    "        metadata = [chromosomes, metrics]\n",
    "        metadata_input_tags = [\"DNA TYPE\", \"METRIC\"]\n",
    "\n",
    "        # Loop through files.\n",
    "        for input_file in self.input_files:\n",
    "            # Loop through chromosomes and metrics\n",
    "            for j, tags in enumerate(metadata):\n",
    "                # Get tag name from user if none have been passed (force input since you cannot iterate through empty list)\n",
    "                if len(tags) == 0:\n",
    "                    tags.append(\n",
    "                        abort(\n",
    "                            input(\n",
    "                                f\"Please input the {metadata_input_tags[j]} name in the file '{input_file}': \"\n",
    "                            )\n",
    "                        )\n",
    "                    )\n",
    "                # If tags list contains at least 1 entry:\n",
    "                else:\n",
    "                    tag_already_labeled = False\n",
    "                    # Loop through tags\n",
    "                    for tag in tags:\n",
    "                        # If tag is already represented in input file, update tag_already_labeled\n",
    "                        if tag in input_file:\n",
    "                            tag_already_labeled = True\n",
    "                    if tag_already_labeled:\n",
    "                        pass\n",
    "                    # Prompt user to input tag if it is not represented in list of tags\n",
    "                    else:\n",
    "                        tags.append(\n",
    "                            abort(\n",
    "                                input(\n",
    "                                    f\"Please input the {metadata_input_tags[j]} name in the file '{input_file}': \"\n",
    "                                )\n",
    "                            )\n",
    "                        )\n",
    "\n",
    "            # Generate dictionaries to return\n",
    "            chromo_counts = {}\n",
    "            metric_counts = {}\n",
    "\n",
    "            # Loop through chromosomes and metrics, initializing dictionaries with 0\n",
    "            for c in chromosomes:\n",
    "                chromo_counts[c] = 0\n",
    "            for m in metrics:\n",
    "                metric_counts[m] = 0\n",
    "\n",
    "            # Loop through input files and get the number of occurrences of metadata\n",
    "            for input_file in self.input_files:\n",
    "                for c in chromosomes:\n",
    "                    if c in input_file:\n",
    "                        chromo_counts[c] += 1\n",
    "                for m in metrics:\n",
    "                    if m in input_file:\n",
    "                        metric_counts[m] += 1\n",
    "\n",
    "        return (chromo_counts, metric_counts)\n",
    "\n",
    "\n",
    "# Create object class Matrix_File for each file.\n",
    "class Matrix_File:\n",
    "    def __init__(self, filepath):\n",
    "        self.filepath = filepath\n",
    "\n",
    "    # Get the chromosome and metric for each file\n",
    "    def get_name(self, chromosomes, metrics):\n",
    "        \"\"\"\n",
    "        Get the chromosome and metric names for a Matrix_File\n",
    "        given the dictionaries 'chromosomes' and 'metrics' containing\n",
    "        counts of each category of metadata in a Matrix_File_Metadata\n",
    "        object.\n",
    "        \"\"\"\n",
    "\n",
    "        chromosome = []\n",
    "        metric = []\n",
    "\n",
    "        # Loop through dictionary keys and grab the correct key\n",
    "        for c in chromosomes.keys():\n",
    "            if c in self.filepath:\n",
    "                chromosome.append(c)\n",
    "        for m in metrics.keys():\n",
    "            if m in self.filepath:\n",
    "                metric.append(m)\n",
    "\n",
    "        # Check that the file contains exactly one entry of each metadata type.\n",
    "        if len(chromosome) + len(metric) != 2:\n",
    "            sys.exit(\n",
    "                f\"File {self.filepath} does not contain exactly one chromosome and one metric name.\"\n",
    "            )\n",
    "        else:\n",
    "            # Convert metadata from list to string if it passes the check above.\n",
    "            chromosome = \"\".join(chromosome)\n",
    "            metric = \"\".join(metric)\n",
    "\n",
    "        self.chromosome = chromosome\n",
    "        self.metric = metric\n",
    "\n",
    "        return chromosome, metric\n",
    "\n",
    "    def get_data(self):\n",
    "        \"\"\"\n",
    "        Extract numerical and categorical data from .tsv file of type Matrix_File.\n",
    "        Return data in separate numpy arrays. Replace missing numerical values with 0.\n",
    "        \"\"\"\n",
    "        # Open filepath associated with object and store lines as lists in list data\n",
    "        data = []\n",
    "        with open(self.filepath, \"r\") as f:\n",
    "            while True:\n",
    "                line = f.readline()\n",
    "                row = line.strip(\"\\n\").split(\"\\t\")\n",
    "                if line:\n",
    "                    data.append(row)\n",
    "                else:\n",
    "                    break\n",
    "\n",
    "        # Ensure that there are at least 2 columns and that every row has the same number of columns\n",
    "        row_lengths = {len(row) for row in data}\n",
    "        if len(row_lengths) > 1 or row_lengths == {1}:\n",
    "            sys.exit(f\"Delimiter issues. Rows read have length(s) {row_lengths}\")\n",
    "\n",
    "        # Set labels variable to the headers of the input file, not including the first empty value\n",
    "        labels = np.array(data[0][1:])\n",
    "\n",
    "        # data_dims is assigned to the length of the input data, not including the categorical headers\n",
    "        data_dims = len(data) - 1\n",
    "\n",
    "        # create an array of zeroes with dimensions of the input data\n",
    "        data_array = np.zeros((data_dims, data_dims))\n",
    "        data_array_debug = np.copy(data_array)\n",
    "\n",
    "        # Loop through columns of numerical data\n",
    "        for i in range(data_dims):\n",
    "            # Check that the vertical label matches the horizontal label. An \"upside-down\" matrix will not pass.\n",
    "            if data[i + 1][0] != labels[i]:\n",
    "                sys.exit(\"Matrix axes are unaligned. Perhaps the Y axis is inverted?\")\n",
    "            # Loop through rows of numerical data\n",
    "            non_diagonal_zeros = 0\n",
    "            for j in range(data_dims):\n",
    "                # Update value if the input value is numerical\n",
    "                try:\n",
    "                    data_array[i][j] = data[i + 1][\n",
    "                        j + 1\n",
    "                    ]  # account for the header rows by increasing indecies by 1.\n",
    "                    # Diagonals must have a score of 0.\n",
    "                    if data_array[i][j] > 0 and i == j:\n",
    "                        sys.exit(\n",
    "                            f\"The identity matrix {self.filepath} does not contain a 0 value at diagonal position {i + 1, j + 1}\"\n",
    "                        )\n",
    "\n",
    "                # Non numerical value handling\n",
    "                except ValueError:\n",
    "                    # The only acceptable non-numerical value is \".\" and \"\".\n",
    "                    if data[i + 1][j + 1] != \".\" and data[i + 1][j + 1] != \"\":\n",
    "                        sys.exit(\n",
    "                            f\"The identity matrix {self.filepath} contains the non-numerical value '{data[i + 1][j + 1]}' at position {i + 1, j + 1}\"\n",
    "                        )\n",
    "                    # Warn the user when non-diagonals have a score of 0. Limit the number of 0 values to 25% of the matrix.\n",
    "                    if i != j:\n",
    "                        non_diagonal_zeros += 1\n",
    "                        if non_diagonal_zeros > data_dims * data_dims / 4:\n",
    "                            sys.exit(\n",
    "                                f\"The identity matrix {self.filepath} contains more than 25% empty values.\"\n",
    "                            )\n",
    "                        print(\n",
    "                            f\"Warning: the identity matrix {self.filepath} contains an empty value at non-diagonal position {i + 1, j + 1}\"\n",
    "                        )\n",
    "                    pass  # leave non-numerical values in the diagonal as 0.\n",
    "\n",
    "        # Access the chromosome of the Matrix_File\n",
    "        chromosome_tag = self.chromosome\n",
    "\n",
    "        # Loop through labels, removing chromosome tags if labels are delimited with \"_\".\n",
    "        for i, label in enumerate(labels):\n",
    "            if \"_\" in label:\n",
    "                label_terms = label.split(\"_\")\n",
    "                label_terms_lower = label.lower().split(\"_\")\n",
    "                while chromosome_tag not in label_terms:\n",
    "                    chromosome_tag = str(\n",
    "                        abort(\n",
    "                            input(\n",
    "                                f\"The matrix row/column labels do not match the chromosome tag '{chromosome_tag}' in the file name '{self.filepath}'. \"\n",
    "                                f\"From the matrix data label '{label}', what characters represent the chromosome name? \"\n",
    "                            )\n",
    "                        )\n",
    "                    )\n",
    "\n",
    "                label_terms.pop(label_terms.index(chromosome_tag))\n",
    "                label_trim = \"_\".join(label_terms)\n",
    "                labels[i] = label_trim\n",
    "\n",
    "        return data_array, labels\n",
    "\n",
    "\n",
    "# Define function to create dendrogram plots with multiple input files\n",
    "def custom_dendrogram(input_files, figure_number):\n",
    "    # Set subplots based on input files passed\n",
    "    fig, axs = plt.subplots(\n",
    "        1, len(input_files), figsize=(10 + 5 * (len(input_files) - 1), 5)\n",
    "    )\n",
    "\n",
    "    # create blank metrics list to store metrics in to present in figure legend\n",
    "    metrics = []\n",
    "\n",
    "    # Initialize orientations and orientation flipper to mirror plots\n",
    "    orientations = [\"left\", \"right\"]\n",
    "    orientation_flipper = 0\n",
    "    # Loop through input files, creating subplots\n",
    "    for i, input_file in enumerate(input_files):\n",
    "        # Handle single inputs, when axes objects are not iterable\n",
    "        ax = axs[i] if len(input_files) > 1 else axs\n",
    "\n",
    "        # Get custom attributes from input file\n",
    "        fileobject = Matrix_File(input_file)\n",
    "        chromosome, metric = fileobject.get_name(chromo_counts, metric_counts)\n",
    "        data, labels = fileobject.get_data()\n",
    "\n",
    "        # Flatten 2D input matrix to 1D without updating values using squareform\n",
    "        c_data = squareform(data)\n",
    "        # Calculate pairwise euclidean distances between points using the nearest point algorithm\n",
    "        Z = linkage(c_data)\n",
    "        # Create dendrogram, update flipper\n",
    "        dendrogram(\n",
    "            Z, orientation=orientations[orientation_flipper], labels=labels, ax=ax\n",
    "        )\n",
    "        orientation_flipper = not orientation_flipper\n",
    "\n",
    "        # Color labels by family\n",
    "        romanovs = np.array(\n",
    "            [\"Romanov\", \"Olga\", \"Tatiana\", \"Marie\", \"Anastasia\", \"Alexandra\", \"Nicolas\"]\n",
    "        )\n",
    "        # Loop through y tick labels, assign colors\n",
    "        for j, plot_label in enumerate(ax.get_yticklabels()):\n",
    "            for k, romanov in enumerate(romanovs):\n",
    "                # If the label matches any entry in the array romanovs, set the label to blue.\n",
    "                if romanov.lower() in plot_label.get_text().lower():\n",
    "                    plot_label.set_color(\"blue\")\n",
    "                    break\n",
    "                elif k < len(romanovs) - 1:\n",
    "                    pass\n",
    "                # If all romanov names have been checked, set the label to red.\n",
    "                else:\n",
    "                    plot_label.set_color(\"red\")\n",
    "\n",
    "        metrics.append(metric)\n",
    "\n",
    "    # Set the legend of the full plot and save.\n",
    "    legend = f\"Hierarchical clustering of genetic distances (algorithm: nearest point).\\nChromosome: {chromosome}. Metric(s) (from left): {', '.join(metrics)}\"\n",
    "    plt.tight_layout()\n",
    "    plt.show()\n",
    "    print(f\"Figure {figure_number}: {legend}\")\n",
    "    plt.savefig(f\"dendrogram_{chromosome}.png\")\n",
    "\n",
    "\n",
    "# Define function to create heatplots with multiple input files\n",
    "def custom_heatmap(input_files, figure_number):\n",
    "    # Set subplots based on input files passed\n",
    "    fig, axs = plt.subplots(\n",
    "        1, len(input_files), figsize=(5 + 5 * (len(input_files) - 1), 5)\n",
    "    )\n",
    "\n",
    "    # create blank metrics list to store metrics in to present in figure legend\n",
    "    metrics = []\n",
    "\n",
    "    # Loop through input files, creating subplots\n",
    "    for i, input_file in enumerate(input_files):\n",
    "        # Handle single inputs, when axes objects are not iterable\n",
    "        ax = axs[i] if len(input_files) > 1 else axs\n",
    "\n",
    "        # Get custom attributes from input file\n",
    "        fileobject = Matrix_File(input_file)\n",
    "        chromosome, metric = fileobject.get_name(chromo_counts, metric_counts)\n",
    "        data, labels = fileobject.get_data()\n",
    "\n",
    "        # Trim labels if they are too long\n",
    "        max_char_len = 18\n",
    "        for j, label in enumerate(labels):\n",
    "            if len(label) > max_char_len:\n",
    "                labels[j] = \"\".join([\"...\", label[len(label) - max_char_len :]])\n",
    "\n",
    "        # Flip sign of data so that more closely related pairs have higher values\n",
    "        data = np.negative(data)\n",
    "        # Plot image\n",
    "        im = ax.imshow(data, cmap=\"nipy_spectral\")\n",
    "        cbar = ax.figure.colorbar(im)\n",
    "\n",
    "        # Update tick labels\n",
    "        xticks, yticks = list(labels), list(labels)\n",
    "        ax.set_xticks(range(len(labels)), xticks, rotation=90)\n",
    "        ax.set_yticks(range(len(labels)), yticks)\n",
    "        metrics.append(metric)\n",
    "\n",
    "\n",
    "    # Set legend and save\n",
    "    legend = f\"Negative genetic distance heatmap.\\nChromosome: {chromosome}. Metric(s) (from left): {', '.join(metrics)}\"\n",
    "    fig.tight_layout()\n",
    "    plt.show()\n",
    "    print(f\"Figure {figure_number}: {legend}\")\n",
    "    plt.savefig(f\"heatmap_{chromosome}.png\")"
   ]
  },
  {
   "cell_type": "code",
   "execution_count": 42,
   "metadata": {
    "colab": {
     "base_uri": "https://localhost:8080/",
     "height": 1000
    },
    "executionInfo": {
     "elapsed": 10243,
     "status": "ok",
     "timestamp": 1761813681881,
     "user": {
      "displayName": "Oliver Ekström Todreas",
      "userId": "17457849058014984055"
     },
     "user_tz": -60
    },
    "id": "UQTSFSQQ5yxw",
    "outputId": "8cd61f9f-729d-4386-a979-ec363e52ec01"
   },
   "outputs": [
    {
     "name": "stdin",
     "output_type": "stream",
     "text": [
      "Please input the DNA TYPE name in the file 'results_mtDNA_scores_alignment_matrix.tsv':  mtDNA\n",
      "Please input the METRIC name in the file 'results_mtDNA_scores_alignment_matrix.tsv':  alignment\n",
      "Please input the METRIC name in the file 'results_mtDNA_scores_identity_matrix.tsv':  identity\n",
      "Please input the DNA TYPE name in the file 'results_Y_scores_alignment_matrix.tsv':  Y\n"
     ]
    },
    {
     "data": {
      "image/png": "[encoded data removed]",
      "text/plain": [
       "<Figure size 1500x500 with 2 Axes>"
      ]
     },
     "metadata": {},
     "output_type": "display_data"
    },
    {
     "name": "stdout",
     "output_type": "stream",
     "text": [
      "Figure 1: Hierarchical clustering of genetic distances (algorithm: nearest point).\n",
      "Chromosome: mtDNA. Metric(s) (from left): alignment, identity\n"
     ]
    },
    {
     "data": {
      "text/plain": [
       "<Figure size 640x480 with 0 Axes>"
      ]
     },
     "metadata": {},
     "output_type": "display_data"
    },
    {
     "data": {
      "image/png": "[encoded data removed]",
      "text/plain": [
       "<Figure size 1000x500 with 4 Axes>"
      ]
     },
     "metadata": {},
     "output_type": "display_data"
    },
    {
     "name": "stdout",
     "output_type": "stream",
     "text": [
      "Figure 2: Negative genetic distance heatmap.\n",
      "Chromosome: mtDNA. Metric(s) (from left): alignment, identity\n"
     ]
    },
    {
     "data": {
      "text/plain": [
       "<Figure size 640x480 with 0 Axes>"
      ]
     },
     "metadata": {},
     "output_type": "display_data"
    },
    {
     "data": {
      "image/png": "[encoded data removed]",
      "text/plain": [
       "<Figure size 1500x500 with 2 Axes>"
      ]
     },
     "metadata": {},
     "output_type": "display_data"
    },
    {
     "name": "stdout",
     "output_type": "stream",
     "text": [
      "Figure 3: Hierarchical clustering of genetic distances (algorithm: nearest point).\n",
      "Chromosome: Y. Metric(s) (from left): alignment, identity\n"
     ]
    },
    {
     "data": {
      "text/plain": [
       "<Figure size 640x480 with 0 Axes>"
      ]
     },
     "metadata": {},
     "output_type": "display_data"
    },
    {
     "data": {
      "image/png": "[encoded data removed]",
      "text/plain": [
       "<Figure size 1000x500 with 4 Axes>"
      ]
     },
     "metadata": {},
     "output_type": "display_data"
    },
    {
     "name": "stdout",
     "output_type": "stream",
     "text": [
      "Figure 4: Negative genetic distance heatmap.\n",
      "Chromosome: Y. Metric(s) (from left): alignment, identity\n"
     ]
    },
    {
     "data": {
      "text/plain": [
       "<Figure size 640x480 with 0 Axes>"
      ]
     },
     "metadata": {},
     "output_type": "display_data"
    }
   ],
   "source": [
    "# Program logic\n",
    "\n",
    "# Get metadata\n",
    "input_files_metadata = Matrix_Files_Metadata(input_files)\n",
    "chromo_counts, metric_counts = input_files_metadata.get_metadata()\n",
    "\n",
    "# Loop through chromosomes, plotting data that share chromosomes\n",
    "for i, chromosome in enumerate(chromo_counts.keys()):\n",
    "    chromo_input_files = []\n",
    "    for input_file in input_files:\n",
    "        if chromosome in input_file:\n",
    "            chromo_input_files.append(input_file)\n",
    "\n",
    "    custom_dendrogram(chromo_input_files, figure_number=(i * 2 + 1))\n",
    "    custom_heatmap(chromo_input_files, figure_number=(i * 2 + 2))"
   ]
  },
  {
   "cell_type": "markdown",
   "metadata": {
    "id": "EWMOKrskdEG_"
   },
   "source": [
    "# Results\n",
    "`Note: figure legends may not be accurate with the Results section if the user passes non-provided data to the notebook.`\n",
    "\n",
    "On Y chromosome data, Anastasia4's son is distantly related to most other people in the dendrogram (Figure 1, Figure 2). On mtDNA data, the suspected body of anastasia romanov's nearest neighbor is Anastasia4's son in terms of genetic distance when computed on metrics of both alignment and identity (Figure 3). Between pairs, genetic distance is usually lower when computed on alignment than when computed on identity (Figure 4)."
   ]
  },
  {
   "cell_type": "markdown",
   "metadata": {
    "id": "diW4mdB7q0CB"
   },
   "source": [
    "# Discussion\n",
    "\n",
    "Looking at the hierarchical clustering of Y Chromosome, Anastasia-4’s son is the farthest from the royal family which is correct if Anastasia 4 was the actual Anastasia. This is because the Y chromosome must not be related to the royal family `why?`- because Anastasia would be the maternal line which is the royal family DNA and the Y chromosome would come from the son's father which will not be from royal family. But Rasputin and the farmers grandson are closely related to each other and then to Prince Fred who is Anastasia’s uncle. We can draw a conclusion that this is because the DNA is not complete and can be a complete coincidence. From the heatmap, we can draw conclusions that Rasputin and the Farmer’s grandson are extremely closely related, meaning they are father and son.\n",
    "\n",
    "Looking at the hierarchical clustering dendrogram of mtDNA, Anastasia-4’s son and Anastasia 5 are the most closely related to the royal family, which is correct as mtDNA is the mitochondrial DNA coming from the maternal line (royal family). From the heatmap,  we can draw conclusions that Anastasia4’s son is closest to Alexandra (Anastasia’s real mother) in the identity score, but Anastasia3 and Anastasia4 are closely related to Alexandra and most of Anastasia’s siblings (Tatiana, Maria, Alexie, Olga), but taking a closer look it suggests that Anastasia 4’s son has a closer relation to the royal family compared to Anastasia 3 to the royal family.\n",
    "\n",
    "So, from both Y and mtDNA, the results point towards Anastasia4 son being closely related to the royal family from the available DNA evidence which suggests Anastasia 4 is the actual Anastasia."
   ]
  }
 ],
 "metadata": {
  "colab": {
   "provenance": [],
   "toc_visible": true
  },
  "kernelspec": {
   "display_name": "Python 3 (ipykernel)",
   "language": "python",
   "name": "python3"
  },
  "language_info": {
   "codemirror_mode": {
    "name": "ipython",
    "version": 3
   },
   "file_extension": ".py",
   "mimetype": "text/x-python",
   "name": "python",
   "nbconvert_exporter": "python",
   "pygments_lexer": "ipython3",
   "version": "3.13.9"
  }
 },
 "nbformat": 4,
 "nbformat_minor": 4
}
