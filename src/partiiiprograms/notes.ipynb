{
 "cells": [
  {
   "cell_type": "code",
   "execution_count": 2,
   "id": "02bb5d88-5b0b-43cd-b7cc-1b5590b2ec6b",
   "metadata": {},
   "outputs": [],
   "source": [
    "import os\n",
    "import pandas as pd\n",
    "import numpy as np"
   ]
  },
  {
   "cell_type": "code",
   "execution_count": 53,
   "id": "d3d7e2d7-72ed-43ac-a607-669a53ed7fc2",
   "metadata": {},
   "outputs": [
    {
     "name": "stdout",
     "output_type": "stream",
     "text": [
      "0 GeneticData_-_3.txt\n",
      "1 GeneticData_-_2.txt\n",
      "2 GeneticData_-_1.txt\n",
      "3 GeneticData_-_5.txt\n",
      "4 GeneticData_-_4.txt\n",
      "5 GeneticData_-_6.txt\n",
      "6 GeneticData_-_7.txt\n",
      "7 rename_files.py\n",
      "8 GeneticData_-_9.txt\n",
      "9 GeneticData_-_8.txt\n"
     ]
    }
   ],
   "source": [
    "os.chdir(\"../../tests/geneticdata\")\n",
    "files = os.listdir()\n",
    "for i, f in enumerate(files):\n",
    "    print(i, f)"
   ]
  },
  {
   "cell_type": "code",
   "execution_count": 145,
   "id": "900c432f-7649-4711-a1c8-0da2658170fe",
   "metadata": {},
   "outputs": [],
   "source": [
    "input_file = files[4]\n",
    "chromo_name = \"mtDNA\"\n",
    "output_file = \"output_file.tsv\"\n",
    "\n",
    "with open(input_file, \"rb\") as f:\n",
    "    i = 0\n",
    "    chromo_line = None\n",
    "    data_list = []\n",
    "    while True:\n",
    "        line_b = f.readline()\n",
    "        line = str(line_b)\n",
    "        if chromo_name in line:\n",
    "            chromo_line = i + 1\n",
    "        if i == chromo_line:\n",
    "            data_list.append(line[2:line.find(\"\\\\\")])\n",
    "        i += 1\n",
    "        if not line_b:\n",
    "            break\n",
    "\n",
    "data = np.array(data_list)\n",
    "\n",
    "seq_lens = []\n",
    "for seq in data:\n",
    "    seq_lens.append(len(seq))\n",
    "    \n",
    "if len(np.unique(seq_lens)) > 1:\n",
    "    # TODO: throw error\n",
    "    pass\n",
    "else:\n",
    "    positions = seq_lens[0]\n",
    "\n",
    "with open(output_file, \"w\") as f:\n",
    "    f.write(\"\\t\".join(output_header) + \"\\n\")\n",
    "    \n",
    "for p in range(positions):\n",
    "    nucleotides = []\n",
    "    for seq in data:\n",
    "        if seq[p].upper() in \"ACGT\":\n",
    "            nucleotides.append(seq[p].upper())\n",
    "    if nucleotides.count(nucleotides[0]) < len(nucleotides):\n",
    "        alleles = set(nucleotides)\n",
    "        freqs = {}\n",
    "        for a in alleles:\n",
    "            freqs[a] = nucleotides.count(a)\n",
    "        ma = max(freqs, key=freqs.get)\n",
    "        mi = min(freqs, key=freqs.get)\n",
    "        maf = freqs[mi] / sum(freqs[a] for a in alleles)\n",
    "        row = \"\\t\".join([chromo_name, str(p), \"/\".join(alleles), str(ma), str(mi), str(round(maf, 2))]) + \"\\n\"\n",
    "        with open(output_file, \"a\") as f:\n",
    "            f.write(row)"
   ]
  },
  {
   "cell_type": "code",
   "execution_count": 15,
   "id": "87332f04-d801-4536-b4dc-d88419adc53e",
   "metadata": {},
   "outputs": [
    {
     "name": "stdout",
     "output_type": "stream",
     "text": [
      "2\n"
     ]
    }
   ],
   "source": [
    "x = [1, 1, 1, 2]\n",
    "x = set(x)\n",
    "print(len(x))"
   ]
  },
  {
   "cell_type": "code",
   "execution_count": 36,
   "id": "09988def-29ca-479d-af57-1b05c05de223",
   "metadata": {},
   "outputs": [
    {
     "name": "stdout",
     "output_type": "stream",
     "text": [
      "Aa\n",
      "/Users/otodreas/Lund/Courses/MiscExercisesBINP16/RunningExercise3_BINP16/src/partiiiprograms\n"
     ]
    }
   ],
   "source": [
    "x = \"A/AaaaaaA/Aa\"\n",
    "i = len(x) - x[::-1].find(\"/\")\n",
    "print(x[i:])\n",
    "print(os.getcwd())"
   ]
  },
  {
   "cell_type": "code",
   "execution_count": 15,
   "id": "476a012c-479a-47f6-be25-7f6c525fbd80",
   "metadata": {},
   "outputs": [
    {
     "name": "stdout",
     "output_type": "stream",
     "text": [
      "A B\n",
      "2\n"
     ]
    }
   ],
   "source": [
    "x = {'A': 10, 'B': 3, 'C': 3}\n",
    "ma = max(x, key=x.get)\n",
    "mi = min(x, key=x.get)\n",
    "print(ma, mi)\n",
    "print(list(x.values()).count(min(x.values())))\n",
    "#for val in [ma, mi]:\n",
    "    #key = x.get(val)\n",
    " #   print(key)"
   ]
  },
  {
   "cell_type": "code",
   "execution_count": 17,
   "id": "0ad9dbb6-7bd0-4889-9f57-a87854f08303",
   "metadata": {},
   "outputs": [
    {
     "name": "stdout",
     "output_type": "stream",
     "text": [
      "('A', 10)\n",
      "('B', 3)\n",
      "('C', 3)\n"
     ]
    }
   ],
   "source": [
    "x = {'A': 10, 'B': 3, 'C': 3}\n",
    "ma = max(x, key=x.get)\n",
    "mi = min(x, key=x.get)\n",
    "\n",
    "import random\n",
    "\n",
    "ma = []\n",
    "mi = []\n",
    "for item in x.items():\n",
    "    if item[1] == min(list(x.values())):\n",
    "        mi.append(item[0])\n",
    "    elif item[1] == max(list(x.values())):\n",
    "        ma.append(item[0])\n",
    "ma = random.choice(ma)\n",
    "mi = random.choice(mi)"
   ]
  },
  {
   "cell_type": "code",
   "execution_count": 26,
   "id": "305db35d-d0b6-4d0d-8a34-1ce27f8e9336",
   "metadata": {},
   "outputs": [
    {
     "name": "stdout",
     "output_type": "stream",
     "text": [
      "<class 'str'>\n"
     ]
    }
   ],
   "source": [
    "random.seed(0)\n",
    "print(type(random.choice(['B'])))"
   ]
  },
  {
   "cell_type": "code",
   "execution_count": 36,
   "id": "b3a2beac-bf9a-402f-a2a1-804f901f1f6b",
   "metadata": {},
   "outputs": [
    {
     "name": "stdout",
     "output_type": "stream",
     "text": [
      "['a', 'b', 'c']\n"
     ]
    }
   ],
   "source": [
    "x = ['a', 'b', 'c']\n",
    "popper = 'd'\n",
    "x.pop(x.index(popper)) if popper in x else x\n",
    "print(x)"
   ]
  }
 ],
 "metadata": {
  "kernelspec": {
   "display_name": "Python 3 (ipykernel)",
   "language": "python",
   "name": "python3"
  },
  "language_info": {
   "codemirror_mode": {
    "name": "ipython",
    "version": 3
   },
   "file_extension": ".py",
   "mimetype": "text/x-python",
   "name": "python",
   "nbconvert_exporter": "python",
   "pygments_lexer": "ipython3",
   "version": "3.13.0"
  }
 },
 "nbformat": 4,
 "nbformat_minor": 5
}
