{
 "cells": [
  {
   "cell_type": "code",
   "execution_count": 2,
   "id": "02bb5d88-5b0b-43cd-b7cc-1b5590b2ec6b",
   "metadata": {},
   "outputs": [],
   "source": [
    "import os\n",
    "import pandas as pd\n",
    "import numpy as np"
   ]
  },
  {
   "cell_type": "code",
   "execution_count": 53,
   "id": "d3d7e2d7-72ed-43ac-a607-669a53ed7fc2",
   "metadata": {},
   "outputs": [
    {
     "name": "stdout",
     "output_type": "stream",
     "text": [
      "0 GeneticData_-_3.txt\n",
      "1 GeneticData_-_2.txt\n",
      "2 GeneticData_-_1.txt\n",
      "3 GeneticData_-_5.txt\n",
      "4 GeneticData_-_4.txt\n",
      "5 GeneticData_-_6.txt\n",
      "6 GeneticData_-_7.txt\n",
      "7 rename_files.py\n",
      "8 GeneticData_-_9.txt\n",
      "9 GeneticData_-_8.txt\n"
     ]
    }
   ],
   "source": [
    "os.chdir(\"../../tests/geneticdata\")\n",
    "files = os.listdir()\n",
    "for i, f in enumerate(files):\n",
    "    print(i, f)"
   ]
  },
  {
   "cell_type": "code",
   "execution_count": 145,
   "id": "900c432f-7649-4711-a1c8-0da2658170fe",
   "metadata": {},
   "outputs": [],
   "source": [
    "input_file = files[4]\n",
    "chromo_name = \"mtDNA\"\n",
    "output_file = \"output_file.tsv\"\n",
    "\n",
    "with open(input_file, \"rb\") as f:\n",
    "    i = 0\n",
    "    chromo_line = None\n",
    "    data_list = []\n",
    "    while True:\n",
    "        line_b = f.readline()\n",
    "        line = str(line_b)\n",
    "        if chromo_name in line:\n",
    "            chromo_line = i + 1\n",
    "        if i == chromo_line:\n",
    "            data_list.append(line[2:line.find(\"\\\\\")])\n",
    "        i += 1\n",
    "        if not line_b:\n",
    "            break\n",
    "\n",
    "data = np.array(data_list)\n",
    "\n",
    "seq_lens = []\n",
    "for seq in data:\n",
    "    seq_lens.append(len(seq))\n",
    "    \n",
    "if len(np.unique(seq_lens)) > 1:\n",
    "    # TODO: throw error\n",
    "    pass\n",
    "else:\n",
    "    positions = seq_lens[0]\n",
    "\n",
    "with open(output_file, \"w\") as f:\n",
    "    f.write(\"\\t\".join(output_header) + \"\\n\")\n",
    "    \n",
    "for p in range(positions):\n",
    "    nucleotides = []\n",
    "    for seq in data:\n",
    "        if seq[p].upper() in \"ACGT\":\n",
    "            nucleotides.append(seq[p].upper())\n",
    "    if nucleotides.count(nucleotides[0]) < len(nucleotides):\n",
    "        alleles = set(nucleotides)\n",
    "        freqs = {}\n",
    "        for a in alleles:\n",
    "            freqs[a] = nucleotides.count(a)\n",
    "        ma = max(freqs, key=freqs.get)\n",
    "        mi = min(freqs, key=freqs.get)\n",
    "        maf = freqs[mi] / sum(freqs[a] for a in alleles)\n",
    "        row = \"\\t\".join([chromo_name, str(p), \"/\".join(alleles), str(ma), str(mi), str(round(maf, 2))]) + \"\\n\"\n",
    "        with open(output_file, \"a\") as f:\n",
    "            f.write(row)"
   ]
  },
  {
   "cell_type": "code",
   "execution_count": 15,
   "id": "87332f04-d801-4536-b4dc-d88419adc53e",
   "metadata": {},
   "outputs": [
    {
     "name": "stdout",
     "output_type": "stream",
     "text": [
      "2\n"
     ]
    }
   ],
   "source": [
    "x = [1, 1, 1, 2]\n",
    "x = set(x)\n",
    "print(len(x))"
   ]
  },
  {
   "cell_type": "code",
   "execution_count": 36,
   "id": "09988def-29ca-479d-af57-1b05c05de223",
   "metadata": {},
   "outputs": [
    {
     "name": "stdout",
     "output_type": "stream",
     "text": [
      "Aa\n",
      "/Users/otodreas/Lund/Courses/MiscExercisesBINP16/RunningExercise3_BINP16/src/partiiiprograms\n"
     ]
    }
   ],
   "source": [
    "x = \"A/AaaaaaA/Aa\"\n",
    "i = len(x) - x[::-1].find(\"/\")\n",
    "print(x[i:])\n",
    "print(os.getcwd())"
   ]
  },
  {
   "cell_type": "code",
   "execution_count": 15,
   "id": "476a012c-479a-47f6-be25-7f6c525fbd80",
   "metadata": {},
   "outputs": [
    {
     "name": "stdout",
     "output_type": "stream",
     "text": [
      "A B\n",
      "2\n"
     ]
    }
   ],
   "source": [
    "x = {'A': 10, 'B': 3, 'C': 3}\n",
    "ma = max(x, key=x.get)\n",
    "mi = min(x, key=x.get)\n",
    "print(ma, mi)\n",
    "print(list(x.values()).count(min(x.values())))\n",
    "#for val in [ma, mi]:\n",
    "    #key = x.get(val)\n",
    " #   print(key)"
   ]
  },
  {
   "cell_type": "code",
   "execution_count": 17,
   "id": "0ad9dbb6-7bd0-4889-9f57-a87854f08303",
   "metadata": {},
   "outputs": [
    {
     "name": "stdout",
     "output_type": "stream",
     "text": [
      "('A', 10)\n",
      "('B', 3)\n",
      "('C', 3)\n"
     ]
    }
   ],
   "source": [
    "x = {'A': 10, 'B': 3, 'C': 3}\n",
    "ma = max(x, key=x.get)\n",
    "mi = min(x, key=x.get)\n",
    "\n",
    "import random\n",
    "\n",
    "ma = []\n",
    "mi = []\n",
    "for item in x.items():\n",
    "    if item[1] == min(list(x.values())):\n",
    "        mi.append(item[0])\n",
    "    elif item[1] == max(list(x.values())):\n",
    "        ma.append(item[0])\n",
    "ma = random.choice(ma)\n",
    "mi = random.choice(mi)"
   ]
  },
  {
   "cell_type": "code",
   "execution_count": 26,
   "id": "305db35d-d0b6-4d0d-8a34-1ce27f8e9336",
   "metadata": {},
   "outputs": [
    {
     "name": "stdout",
     "output_type": "stream",
     "text": [
      "<class 'str'>\n"
     ]
    }
   ],
   "source": [
    "random.seed(0)\n",
    "print(type(random.choice(['B'])))"
   ]
  },
  {
   "cell_type": "code",
   "execution_count": 36,
   "id": "b3a2beac-bf9a-402f-a2a1-804f901f1f6b",
   "metadata": {},
   "outputs": [
    {
     "name": "stdout",
     "output_type": "stream",
     "text": [
      "['a', 'b', 'c']\n"
     ]
    }
   ],
   "source": [
    "x = ['a', 'b', 'c']\n",
    "popper = 'd'\n",
    "x.pop(x.index(popper)) if popper in x else x\n",
    "print(x)"
   ]
  },
  {
   "cell_type": "markdown",
   "id": "b2db0a8b-dd99-45d9-83cb-e4c3bf28059f",
   "metadata": {},
   "source": [
    "## dendogram\n",
    "\n",
    "link to dendogram script below: https://scikit-learn.org/stable/auto_examples/cluster/plot_agglomerative_dendrogram.html\n",
    "\n",
    "simpler examples: https://www.geeksforgeeks.org/python/scipy-cluster-hierarchy-dendrogram/"
   ]
  },
  {
   "cell_type": "code",
   "execution_count": 169,
   "id": "bc60344e-c0fc-486b-903c-20af8589e56b",
   "metadata": {},
   "outputs": [
    {
     "name": "stdout",
     "output_type": "stream",
     "text": [
      "2\n",
      "4\n",
      "8\n",
      "16\n",
      "32\n"
     ]
    }
   ],
   "source": [
    "i = 1\n",
    "for _ in range(5):\n",
    "    i *= 2\n",
    "    print(i)"
   ]
  },
  {
   "cell_type": "code",
   "execution_count": 184,
   "id": "9defcec1-e721-4b1d-80ed-1a19e340c03b",
   "metadata": {},
   "outputs": [
    {
     "data": {
      "text/plain": [
       "array([[1.        , 1.32303926, 0.45017686, 1.65162035],\n",
       "       [1.32303926, 1.        , 5.67226091, 7.09088424],\n",
       "       [0.45017686, 5.67226091, 1.        , 5.56590293],\n",
       "       [1.65162035, 7.09088424, 5.56590293, 1.        ]])"
      ]
     },
     "execution_count": 184,
     "metadata": {},
     "output_type": "execute_result"
    }
   ],
   "source": [
    "import numpy as np\n",
    "import pandas as pd\n",
    "\n",
    "np.random.seed(0)\n",
    "d = np.eye(4)\n",
    "\n",
    "scaler = 1\n",
    "for i, row in enumerate(d):\n",
    "    for j, col in enumerate(row):\n",
    "        if i < j:\n",
    "            scaler *= 1.5\n",
    "            d[i][j] = abs(np.random.normal(loc=d[i][j], scale=0.5*scaler))\n",
    "        else:\n",
    "            d[i][j] = d[j][i]\n",
    "d"
   ]
  },
  {
   "cell_type": "code",
   "execution_count": 17,
   "id": "8e1c1d73-8be3-403b-a361-58d4f1601d40",
   "metadata": {
    "collapsed": true,
    "jupyter": {
     "outputs_hidden": true
    }
   },
   "outputs": [
    {
     "name": "stdout",
     "output_type": "stream",
     "text": [
      "Feature names: ['sepal length (cm)', 'sepal width (cm)', 'petal length (cm)', 'petal width (cm)']\n",
      "Target names: ['setosa' 'versicolor' 'virginica']\n",
      "First 5 samples:\n",
      "Sample 1: [5.1 3.5 1.4 0.2] (Class: 0, Species: setosa)\n",
      "Sample 2: [4.9 3.  1.4 0.2] (Class: 0, Species: setosa)\n",
      "Sample 3: [4.7 3.2 1.3 0.2] (Class: 0, Species: setosa)\n",
      "Sample 4: [4.6 3.1 1.5 0.2] (Class: 0, Species: setosa)\n",
      "Sample 5: [5.  3.6 1.4 0.2] (Class: 0, Species: setosa)\n",
      "Help on Bunch in module sklearn.utils._bunch object:\n",
      "\n",
      "class Bunch(builtins.dict)\n",
      " |  Bunch(**kwargs)\n",
      " |\n",
      " |  Container object exposing keys as attributes.\n",
      " |\n",
      " |  Bunch objects are sometimes used as an output for functions and methods.\n",
      " |  They extend dictionaries by enabling values to be accessed by key,\n",
      " |  `bunch[\"value_key\"]`, or by an attribute, `bunch.value_key`.\n",
      " |\n",
      " |  Examples\n",
      " |  --------\n",
      " |  >>> from sklearn.utils import Bunch\n",
      " |  >>> b = Bunch(a=1, b=2)\n",
      " |  >>> b['b']\n",
      " |  2\n",
      " |  >>> b.b\n",
      " |  2\n",
      " |  >>> b.a = 3\n",
      " |  >>> b['a']\n",
      " |  3\n",
      " |  >>> b.c = 6\n",
      " |  >>> b['c']\n",
      " |  6\n",
      " |\n",
      " |  Method resolution order:\n",
      " |      Bunch\n",
      " |      builtins.dict\n",
      " |      builtins.object\n",
      " |\n",
      " |  Methods defined here:\n",
      " |\n",
      " |  __dir__(self)\n",
      " |      Default dir() implementation.\n",
      " |\n",
      " |  __getattr__(self, key)\n",
      " |\n",
      " |  __getitem__(self, key)\n",
      " |      Return self[key].\n",
      " |\n",
      " |  __init__(self, **kwargs)\n",
      " |      Initialize self.  See help(type(self)) for accurate signature.\n",
      " |\n",
      " |  __setattr__(self, key, value)\n",
      " |      Implement setattr(self, name, value).\n",
      " |\n",
      " |  __setstate__(self, state)\n",
      " |\n",
      " |  ----------------------------------------------------------------------\n",
      " |  Data descriptors defined here:\n",
      " |\n",
      " |  __dict__\n",
      " |      dictionary for instance variables\n",
      " |\n",
      " |  __weakref__\n",
      " |      list of weak references to the object\n",
      " |\n",
      " |  ----------------------------------------------------------------------\n",
      " |  Methods inherited from builtins.dict:\n",
      " |\n",
      " |  __contains__(self, key, /)\n",
      " |      True if the dictionary has the specified key, else False.\n",
      " |\n",
      " |  __delitem__(self, key, /)\n",
      " |      Delete self[key].\n",
      " |\n",
      " |  __eq__(self, value, /)\n",
      " |      Return self==value.\n",
      " |\n",
      " |  __ge__(self, value, /)\n",
      " |      Return self>=value.\n",
      " |\n",
      " |  __getattribute__(self, name, /)\n",
      " |      Return getattr(self, name).\n",
      " |\n",
      " |  __gt__(self, value, /)\n",
      " |      Return self>value.\n",
      " |\n",
      " |  __ior__(self, value, /)\n",
      " |      Return self|=value.\n",
      " |\n",
      " |  __iter__(self, /)\n",
      " |      Implement iter(self).\n",
      " |\n",
      " |  __le__(self, value, /)\n",
      " |      Return self<=value.\n",
      " |\n",
      " |  __len__(self, /)\n",
      " |      Return len(self).\n",
      " |\n",
      " |  __lt__(self, value, /)\n",
      " |      Return self<value.\n",
      " |\n",
      " |  __ne__(self, value, /)\n",
      " |      Return self!=value.\n",
      " |\n",
      " |  __or__(self, value, /)\n",
      " |      Return self|value.\n",
      " |\n",
      " |  __repr__(self, /)\n",
      " |      Return repr(self).\n",
      " |\n",
      " |  __reversed__(self, /)\n",
      " |      Return a reverse iterator over the dict keys.\n",
      " |\n",
      " |  __ror__(self, value, /)\n",
      " |      Return value|self.\n",
      " |\n",
      " |  __setitem__(self, key, value, /)\n",
      " |      Set self[key] to value.\n",
      " |\n",
      " |  __sizeof__(self, /)\n",
      " |      Return the size of the dict in memory, in bytes.\n",
      " |\n",
      " |  clear(self, /)\n",
      " |      Remove all items from the dict.\n",
      " |\n",
      " |  copy(self, /)\n",
      " |      Return a shallow copy of the dict.\n",
      " |\n",
      " |  get(self, key, default=None, /)\n",
      " |      Return the value for key if key is in the dictionary, else default.\n",
      " |\n",
      " |  items(self, /)\n",
      " |      Return a set-like object providing a view on the dict's items.\n",
      " |\n",
      " |  keys(self, /)\n",
      " |      Return a set-like object providing a view on the dict's keys.\n",
      " |\n",
      " |  pop(self, key, default=<unrepresentable>, /)\n",
      " |      D.pop(k[,d]) -> v, remove specified key and return the corresponding value.\n",
      " |\n",
      " |      If the key is not found, return the default if given; otherwise,\n",
      " |      raise a KeyError.\n",
      " |\n",
      " |  popitem(self, /)\n",
      " |      Remove and return a (key, value) pair as a 2-tuple.\n",
      " |\n",
      " |      Pairs are returned in LIFO (last-in, first-out) order.\n",
      " |      Raises KeyError if the dict is empty.\n",
      " |\n",
      " |  setdefault(self, key, default=None, /)\n",
      " |      Insert key with a value of default if key is not in the dictionary.\n",
      " |\n",
      " |      Return the value for key if key is in the dictionary, else default.\n",
      " |\n",
      " |  update(...)\n",
      " |      D.update([E, ]**F) -> None.  Update D from dict/iterable E and F.\n",
      " |      If E is present and has a .keys() method, then does:  for k in E: D[k] = E[k]\n",
      " |      If E is present and lacks a .keys() method, then does:  for k, v in E: D[k] = v\n",
      " |      In either case, this is followed by: for k in F:  D[k] = F[k]\n",
      " |\n",
      " |  values(self, /)\n",
      " |      Return an object providing a view on the dict's values.\n",
      " |\n",
      " |  ----------------------------------------------------------------------\n",
      " |  Class methods inherited from builtins.dict:\n",
      " |\n",
      " |  __class_getitem__(object, /)\n",
      " |      See PEP 585\n",
      " |\n",
      " |  fromkeys(iterable, value=None, /)\n",
      " |      Create a new dictionary with keys from iterable and values set to value.\n",
      " |\n",
      " |  ----------------------------------------------------------------------\n",
      " |  Static methods inherited from builtins.dict:\n",
      " |\n",
      " |  __new__(*args, **kwargs) class method of builtins.dict\n",
      " |      Create and return a new object.  See help(type) for accurate signature.\n",
      " |\n",
      " |  ----------------------------------------------------------------------\n",
      " |  Data and other attributes inherited from builtins.dict:\n",
      " |\n",
      " |  __hash__ = None\n",
      "\n"
     ]
    }
   ],
   "source": [
    "# Load the Iris dataset\n",
    "iris = load_iris()\n",
    "\n",
    "# Access the features and target variable\n",
    "X = iris.data  # Features (sepal length, sepal width, petal length, petal width)\n",
    "y = iris.target  # Target variable (species: 0 for setosa, 1 for versicolor, 2 for virginica)\n",
    "\n",
    "# Print the feature names and target names\n",
    "print(\"Feature names:\", iris.feature_names)\n",
    "print(\"Target names:\", iris.target_names)\n",
    "\n",
    "# Print the first few samples in the dataset\n",
    "print(\"First 5 samples:\")\n",
    "for i in range(5):\n",
    "    print(f\"Sample {i+1}: {X[i]} (Class: {y[i]}, Species: {iris.target_names[y[i]]})\")\n",
    "help(iris)"
   ]
  },
  {
   "cell_type": "code",
   "execution_count": null,
   "id": "bda0c300-1d8f-4951-abc1-5d69602eadb1",
   "metadata": {
    "jupyter": {
     "source_hidden": true
    }
   },
   "outputs": [],
   "source": [
    "# exact copy of code from link\n",
    "import numpy as np\n",
    "from matplotlib import pyplot as plt\n",
    "from scipy.cluster.hierarchy import dendrogram\n",
    "\n",
    "from sklearn.cluster import AgglomerativeClustering\n",
    "from sklearn.datasets import load_iris\n",
    "\n",
    "\n",
    "def plot_dendrogram(model, **kwargs):\n",
    "    # Create linkage matrix and then plot the dendrogram\n",
    "\n",
    "    # create the counts of samples under each node\n",
    "    counts = np.zeros(model.children_.shape[0])\n",
    "    n_samples = len(model.labels_)\n",
    "    for i, merge in enumerate(model.children_):\n",
    "        current_count = 0\n",
    "        for child_idx in merge:\n",
    "            if child_idx < n_samples:\n",
    "                current_count += 1  # leaf node\n",
    "            else:\n",
    "                current_count += counts[child_idx - n_samples]\n",
    "        counts[i] = current_count\n",
    "\n",
    "    linkage_matrix = np.column_stack(\n",
    "        [model.children_, model.distances_, counts]\n",
    "    ).astype(float)\n",
    "\n",
    "    # Plot the corresponding dendrogram\n",
    "    dendrogram(linkage_matrix, **kwargs)\n",
    "\n",
    "\n",
    "iris = load_iris()\n",
    "X = iris.data\n",
    "\n",
    "# setting distance_threshold=0 ensures we compute the full tree.\n",
    "model = AgglomerativeClustering(distance_threshold=0, n_clusters=None)\n",
    "\n",
    "model = model.fit(X)\n",
    "plt.title(\"Hierarchical Clustering Dendrogram\")\n",
    "# plot the top three levels of the dendrogram\n",
    "plot_dendrogram(model, truncate_mode=\"level\", p=3)\n",
    "plt.xlabel(\"Number of points in node (or index of point if no parenthesis).\")\n",
    "plt.show()"
   ]
  },
  {
   "cell_type": "code",
   "execution_count": null,
   "id": "69f070b1-a34f-48fd-9fd3-46415281c67f",
   "metadata": {},
   "outputs": [],
   "source": [
    "import numpy as np\n",
    "from scipy.spatial.distance import pdist, squareform\n",
    "\n",
    "# Define a set of objects\n",
    "objects = np.array([[1, 10], [2, 11], [3, 4]])\n",
    "\n",
    "# Calculate the pairwise distances\n",
    "distances = pdist(objects)\n",
    "\n",
    "# Convert the distances to a square matrix\n",
    "distance_matrix = squareform(distances)\n",
    "\n",
    "\n",
    "# Perform hierarchical clustering\n",
    "Z = linkage(distance_matrix)\n",
    "\n",
    "# Plot the dendrogram\n",
    "plt.figure(figsize=(10, 5))\n",
    "dendrogram(Z)\n",
    "plt.show()"
   ]
  },
  {
   "cell_type": "markdown",
   "id": "92bdcafd-ab72-40e3-861f-11535af7df0b",
   "metadata": {},
   "source": [
    "# solution dendrogram:\n",
    "- import libraries\n",
    "```python\n",
    "from scipy.cluster.hierarchy import linkage, dendrogram\n",
    "import matplotlib.pyplot as plt\n",
    "```\n",
    "- take distance matrix with the shape\n",
    "```markdown\n",
    "  A  B  C\n",
    "[[1, 0, 0], A\n",
    " [0, 1, 0], B\n",
    " [0, 0, 1]] C\n",
    "```\n",
    "where the row `A B C` are `labels`\n",
    "- assign the linkage matrix of the distance matrix to `Z`\n",
    "```python\n",
    "Z = linkage(data)\n",
    "```\n",
    "- draw figure and plot the dendrogram with the labels from the distance matrix\n",
    "```python\n",
    "plt.figure()\n",
    "dendrogram(Z, labels=labels)\n",
    "plt.show()\n",
    "```"
   ]
  },
  {
   "cell_type": "code",
   "execution_count": 199,
   "id": "4e67ef52-32be-420e-955b-1a327952ba29",
   "metadata": {},
   "outputs": [
    {
     "name": "stdout",
     "output_type": "stream",
     "text": [
      "[[1.         1.32303926 0.45017686 1.65162035]\n",
      " [1.32303926 1.         5.67226091 7.09088424]\n",
      " [0.45017686 5.67226091 1.         5.56590293]\n",
      " [1.65162035 7.09088424 5.56590293 1.        ]]\n"
     ]
    },
    {
     "data": {
      "image/png": "[encoded data removed]",
      "text/plain": [
       "<Figure size 640x480 with 1 Axes>"
      ]
     },
     "metadata": {},
     "output_type": "display_data"
    },
    {
     "data": {
      "image/png": "[encoded data removed]",
      "text/plain": [
       "<Figure size 640x480 with 2 Axes>"
      ]
     },
     "metadata": {},
     "output_type": "display_data"
    }
   ],
   "source": [
    "print(d)\n",
    "from scipy.cluster.hierarchy import linkage, dendrogram\n",
    "from sklearn import metrics\n",
    "import matplotlib.pyplot as plt\n",
    "data = np.array([\n",
    "    #0  1     2\n",
    "    [1, 0.1, .25], # 0\n",
    "    [0.1, 1, .8],  # 1\n",
    "    [.25, .8, 1]   # 2\n",
    "])\n",
    "Z = linkage(data)\n",
    "plt.figure()\n",
    "dendrogram(Z, labels=np.array(['a', 'b', 'c']))\n",
    "plt.show()\n",
    "\n",
    "ConfusionMatrixDisplay(data).plot()#, display_labels = labels)\n",
    "plt.show()"
   ]
  },
  {
   "cell_type": "code",
   "execution_count": 193,
   "id": "7919e2bd-bbca-4348-8bf2-bc845c01a78a",
   "metadata": {},
   "outputs": [
    {
     "name": "stdout",
     "output_type": "stream",
     "text": [
      "[[12  1]\n",
      " [ 2 10]]\n"
     ]
    },
    {
     "data": {
      "image/png": "[encoded data removed]",
      "text/plain": [
       "<Figure size 640x480 with 2 Axes>"
      ]
     },
     "metadata": {},
     "output_type": "display_data"
    }
   ],
   "source": [
    "import matplotlib.pyplot as plt\n",
    "from sklearn.datasets import make_classification\n",
    "from sklearn.metrics import confusion_matrix, ConfusionMatrixDisplay\n",
    "from sklearn.model_selection import train_test_split\n",
    "from sklearn.svm import SVC\n",
    "X, y = make_classification(random_state=0)\n",
    "X_train, X_test, y_train, y_test = train_test_split(X, y,\n",
    "                                                    random_state=0)\n",
    "clf = SVC(random_state=0)\n",
    "clf.fit(X_train, y_train)\n",
    "predictions = clf.predict(X_test)\n",
    "cm = confusion_matrix(y_test, predictions, labels=clf.classes_)\n",
    "print(cm)\n",
    "disp = ConfusionMatrixDisplay(confusion_matrix=cm,\n",
    "                              display_labels=clf.classes_)\n",
    "disp.plot()\n",
    "plt.show()"
   ]
  },
  {
   "cell_type": "code",
   "execution_count": 30,
   "id": "d1340859-f169-4e8d-8797-d0690af67aaa",
   "metadata": {},
   "outputs": [
    {
     "name": "stdout",
     "output_type": "stream",
     "text": [
      "<class 'numpy.ndarray'>\n"
     ]
    },
    {
     "data": {
      "text/plain": [
       "'Error: please input a numpy array'"
      ]
     },
     "execution_count": 30,
     "metadata": {},
     "output_type": "execute_result"
    }
   ],
   "source": [
    "import sys\n",
    "import numpy as np\n",
    "def DistanceMatrixPlotter(matrix: np.array):\n",
    "    if type(matrix) != type(np.array([])):\n",
    "        print(\"Error: please input a numpy array\")\n",
    "    n_dims = len(matrix.shape)\n",
    "    if n_dims != 2:\n",
    "        print(\"Error: the numpy array does not have 2 dimensions\")\n",
    "DistanceMatrixPlotter([1])"
   ]
  },
  {
   "cell_type": "code",
   "execution_count": 84,
   "id": "e3691da6-7cc6-4e18-b7b7-c6c91d3e9e22",
   "metadata": {},
   "outputs": [
    {
     "name": "stdout",
     "output_type": "stream",
     "text": [
      "[[100.           0.35820434  15.32668782   1.16810863   0.73789204\n",
      "    4.00435452   0.52346905   0.58894685   0.82395922   1.16810863\n",
      "    1.33309662   0.92119912   0.73789204   1.16810863   1.16810863\n",
      "   15.32668782]\n",
      " [  0.35820434 100.          15.32668782   1.33309662   0.52346905\n",
      "    1.8319603    0.82395922   0.92119912   0.92119912   1.33309662\n",
      "    1.03612938   1.53867525   0.82395922   1.16810863   0.92119912\n",
      "   15.32668782]\n",
      " [ 15.32668782  15.32668782 100.          15.32668782  15.32668782\n",
      "   15.32668782  15.32668782  15.32668782  15.32668782  15.32668782\n",
      "   15.32668782  15.32668782  15.32668782  15.32668782  15.32668782\n",
      "   15.32668782]\n",
      " [  1.16810863   1.33309662  15.32668782 100.           1.8319603\n",
      "   15.32668782   1.8319603   15.32668782   2.30284186   1.8319603\n",
      "   15.32668782   2.30284186   1.53867525  15.32668782  15.32668782\n",
      "   15.32668782]\n",
      " [  0.73789204   0.52346905  15.32668782   1.8319603  100.\n",
      "    1.8319603    1.8319603    1.33309662   1.53867525   1.53867525\n",
      "    1.33309662   4.00435452   1.33309662   2.30284186   1.16810863\n",
      "   15.32668782]\n",
      " [  4.00435452   1.8319603   15.32668782  15.32668782   1.8319603\n",
      "  100.          15.32668782  15.32668782  15.32668782  15.32668782\n",
      "   15.32668782  15.32668782   4.00435452  15.32668782  15.32668782\n",
      "   15.32668782]\n",
      " [  0.52346905   0.82395922  15.32668782   1.8319603    1.8319603\n",
      "   15.32668782 100.           0.92119912   1.53867525   1.8319603\n",
      "    1.8319603    1.16810863   1.33309662   1.53867525   1.8319603\n",
      "   15.32668782]\n",
      " [  0.58894685   0.92119912  15.32668782  15.32668782   1.33309662\n",
      "   15.32668782   0.92119912 100.           1.53867525   1.8319603\n",
      "    1.8319603    1.16810863   1.33309662   1.53867525   1.53867525\n",
      "    4.00435452]\n",
      " [  0.82395922   0.92119912  15.32668782   2.30284186   1.53867525\n",
      "   15.32668782   1.53867525   1.53867525 100.           2.30284186\n",
      "    4.00435452   2.30284186   0.46473669   0.65876467   2.30284186\n",
      "   15.32668782]\n",
      " [  1.16810863   1.33309662  15.32668782   1.8319603    1.53867525\n",
      "   15.32668782   1.8319603    1.8319603    2.30284186 100.\n",
      "    1.53867525   4.00435452   1.53867525   4.00435452   1.33309662\n",
      "   15.32668782]\n",
      " [  1.33309662   1.03612938  15.32668782  15.32668782   1.33309662\n",
      "   15.32668782   1.8319603    1.8319603    4.00435452   1.53867525\n",
      "  100.          15.32668782   2.30284186   4.00435452   0.73789204\n",
      "   15.32668782]\n",
      " [  0.92119912   1.53867525  15.32668782   2.30284186   4.00435452\n",
      "   15.32668782   1.16810863   1.16810863   2.30284186   4.00435452\n",
      "   15.32668782 100.           1.8319603   15.32668782   4.00435452\n",
      "    2.30284186]\n",
      " [  0.73789204   0.82395922  15.32668782   1.53867525   1.33309662\n",
      "    4.00435452   1.33309662   1.33309662   0.46473669   1.53867525\n",
      "    2.30284186   1.8319603  100.           0.73789204   1.8319603\n",
      "    4.00435452]\n",
      " [  1.16810863   1.16810863  15.32668782  15.32668782   2.30284186\n",
      "   15.32668782   1.53867525   1.53867525   0.65876467   4.00435452\n",
      "    4.00435452  15.32668782   0.73789204 100.           2.30284186\n",
      "   15.32668782]\n",
      " [  1.16810863   0.92119912  15.32668782  15.32668782   1.16810863\n",
      "   15.32668782   1.8319603    1.53867525   2.30284186   1.33309662\n",
      "    0.73789204   4.00435452   1.8319603    2.30284186 100.\n",
      "    2.30284186]\n",
      " [ 15.32668782  15.32668782  15.32668782  15.32668782  15.32668782\n",
      "   15.32668782  15.32668782   4.00435452  15.32668782  15.32668782\n",
      "   15.32668782   2.30284186   4.00435452  15.32668782   2.30284186\n",
      "  100.        ]]\n",
      "['Princess Irene_mtDNA' 'Prince Fred_mtDNA' 'Nicolas II Romanov_mtDNA'\n",
      " 'Alexandra Romanov_mtDNA' 'Olga Romanov_mtDNA' 'Tatiana Romanov_mtDNA'\n",
      " 'Maria Romanov_mtDNA' 'Alexei Romanov_mtDNA'\n",
      " 'Suspected body of Anastasia Romanov_mtDNA' 'Anastasia1_mtDNA'\n",
      " 'Anastasia2_mtDNA' 'Anastasia3_mtDNA' 'Anastasia4 son_mtDNA'\n",
      " 'Anastasia5_mtDNA' 'Farmers grandson_mtDNA' 'Grigori Rasputin_mtDNA']\n"
     ]
    }
   ],
   "source": [
    "def tsv_array_converter(filepath):\n",
    "    data = []\n",
    "    with open(filepath, \"r\") as f:\n",
    "        while True:\n",
    "            line = f.readline()\n",
    "            row = line.strip(\"\\n\").split(\"\\t\")\n",
    "            if line:\n",
    "                data.append(row)\n",
    "            else:\n",
    "                break\n",
    "\n",
    "    labels = np.array(data[0][1:])\n",
    "    data_dims = len(data) - 1\n",
    "    data_array = np.zeros((data_dims, data_dims))\n",
    "    for i in range(data_dims):\n",
    "        for j in range(data_dims):\n",
    "            try:\n",
    "                data_array[i][j] = data[i+1][j+1]\n",
    "            except ValueError:\n",
    "                data_array[i][j] = 100.\n",
    "    \n",
    "    return data_array, labels\n",
    "\n",
    "l, d = tsv_array_converter(os.path.join(os.getcwd(), \"Generate_genetic_distance/mtDNA_genetic_distance.tsv\"))\n",
    "print(l)\n",
    "print(d)"
   ]
  },
  {
   "cell_type": "code",
   "execution_count": 98,
   "id": "bf2d1887-dc0c-45e8-bcf2-77b758cfc572",
   "metadata": {},
   "outputs": [
    {
     "name": "stdout",
     "output_type": "stream",
     "text": [
      "<generator object <genexpr> at 0x1190d4880>\n"
     ]
    }
   ],
   "source": []
  }
 ],
 "metadata": {
  "kernelspec": {
   "display_name": "Python 3 (ipykernel)",
   "language": "python",
   "name": "python3"
  },
  "language_info": {
   "codemirror_mode": {
    "name": "ipython",
    "version": 3
   },
   "file_extension": ".py",
   "mimetype": "text/x-python",
   "name": "python",
   "nbconvert_exporter": "python",
   "pygments_lexer": "ipython3",
   "version": "3.13.0"
  }
 },
 "nbformat": 4,
 "nbformat_minor": 5
}
