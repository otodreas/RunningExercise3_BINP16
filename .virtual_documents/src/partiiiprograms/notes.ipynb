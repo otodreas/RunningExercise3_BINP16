import sys
import os
import math
import numpy as np
from scipy.cluster.hierarchy import linkage, dendrogram
from scipy.spatial.distance import pdist
from scipy.spatial.distance import squareform
import matplotlib.pyplot as plt

def abort(user_input):
    if user_input.lower() == "abort" or user_input.lower() == "exit":
        sys.exit("Program aborted.")
    else:
        return user_input

class Matrix_File_Metadata:
    def __init__(self, input_files):
        self.input_files = input_files

    def __str__(self):
        return str(self.input_files)

    def get_metadata(self):
        chromosomes = []
        metrics = []
        for i in self.input_files:
            if len(chromosomes) == 0:
                chromosomes.append(
                    abort(
                        input(f"Please input the CHROMOSOME name in the file '{i}': ")
                    )
                )
            else:
                chromosome_already_labeled = False
                for c in chromosomes:
                    if c in i:
                        chromosome_already_labeled = True
                if chromosome_already_labeled:
                    pass
                else:
                    chromosomes.append(
                        abort(
                            input(
                                f"Please input the CHROMOSOME name in the file '{i}': "
                            )
                        )
                    )

            if len(metrics) == 0:
                metrics.append(
                    abort(input(f"Please input the METRIC name in the file '{i}': "))
                )
            else:
                metric_already_labeled = False
                for m in metrics:
                    if m in i:
                        metric_already_labeled = True
                if metric_already_labeled:
                    pass
                else:
                    metrics.append(
                        abort(
                            input(f"Please input the METRIC name in the file '{i}': ")
                        )
                    )

        return (chromosomes, metrics)


# Create object class Matrix_File
class Matrix_File:
    def __init__(self, filepath):
        self.filepath = filepath

    def get_name(self, chromosomes, metrics):
        chromosome = []
        metric = []

        for i in chromosomes:
            if i in self.filepath:
                chromosome.append(i)
        for i in metrics:
            if i in self.filepath:
                metric.append(i)

        if len(chromosome) + len(metric) != 2:
            sys.exit(
                f"File {self.filepath} does not contain exactly one chromosome and one metric name."
            )
        else:
            chromosome = "".join(chromosome)
            metric = "".join(metric)

        self.chromosome = chromosome
        self.metric = metric

        return chromosome, metric

    def get_data(self):
        data = []
        with open(self.filepath, "r") as f:
            while True:
                line = f.readline()
                row = line.strip("\n").split("\t")
                if line:
                    data.append(row)
                else:
                    break

        row_lengths = {len(row) for row in data}
        if len(row_lengths) > 1 or row_lengths == {1}:
            sys.exit(f"Delimiter issues. Rows read have length(s) {row_lengths}")
        labels = np.array(data[0][1:])

        data_dims = len(data) - 1
        data_array = np.zeros((data_dims, data_dims))

        for i in range(data_dims):
            if data[i + 1][0] != labels[i]:
                sys.exit("Matrix axes are unaligned. Perhaps the Y axis is inverted?")
            for j in range(data_dims):
                try:
                    data_array[i][j] = data[i + 1][j + 1]
                except ValueError:
                    data_array[i][j] = (
                        0.0  # this position contains "" in the input data
                    )
        
        chromosome_tag = self.chromosome
        for i, label in enumerate(labels):
            label_terms = label.split("_")
            label_terms_lower = label.lower().split("_")
            while chromosome_tag not in label_terms:
                chromosome_tag = str(
                    abort(
                        input(
                            f"The matrix row/column labels do not match the chromosome tag '{chromosome_tag}' in the file name '{self.filepath}'. From the matrix data label '{label}', what characters represent the chromosome name? "
                        )
                    )
                )

            label_terms.pop(label_terms.index(chromosome_tag))
            label_trim = "_".join(label_terms)
            labels[i] = label_trim

        return data_array, labels




import os
os.chdir("GeneticDistance_output")


lst = [0, 1, 1, 1, 0, 1]
def find(lst):
    return [i for i, x in enumerate(lst) if x == 1]
find(lst)





input_files = [f for f in os.listdir() if f.endswith(".tsv")]
input_files_metadata = Matrix_File_Metadata(input_files)
chromosomes, metrics = input_files_metadata.get_metadata()

for input_file in input_files:
    fileobject = Matrix_File(input_file)
    chromosome, metric = fileobject.get_name(chromosomes, metrics)
    data, labels = fileobject.get_data()


print(chromosome, metric)
print(labels)
print(data)
distvec = pdist(data)
linkvec = linkage(data)
condensed = squareform(data)
print(distvec)
print(linkvec)
print(condensed)
#print(squareform(m))
#print(linkage(data, "complete"))
dendrogram(linkage(data))#, labels=labels, orientation="left")

plt.show()


dendrogram(linkage(squareform(data)))
plt.show()


os.path.exists(os.path.join(os.getcwd(), "../CalculateHapmap.py"))


labels = np.array(["x_mtdna_s", "y_mtdna_s"])
for i, label in enumerate(labels):
    label_terms = label.split("_")
    label_terms.pop(label_terms.index("mtdna"))
    label_trim = "_".join(label_terms)
    labels[i] = label_trim
print(labels)


import os
import pandas as pd
import numpy as np
import sys


class Input_File:
    def __init__(self, filepath):
        self.filepath = filepath
    def get_name(self):

        # The chromosomes
        chromosomes = ["mtDNA", "YDNA"]
        chromosome = None
        metrics = ["alignment", "identity"]
        metric = None
        for i in chromosomes:
            if i in self.filepath:
                chromosome = i
        for i in metrics:
            if i in self.filepath:
                metric = i

        # Check that names are valid
        while chromosome not in chromosomes:
            chromosome = input(f"Chromosome not found. Please input a valid chromosome name {chromosomes} or 'abort' to exit: ")
            if chromosome.lower() == "abort":
                sys.exit("Program aborted.")
        while metric not in metrics:
            metric = input(f"Metric not found. Please input a valid metric name {metrics} or 'abort' to exit: ")
            if metric.lower() == "abort":
                sys.exit("Program aborted.")
        return chromosome, metric
        
    def get_data(self):
        data = []
        with open(self.filepath, "r") as f:
            while True:
                line = f.readline()
                row = line.strip("\n").split("\t")
                if line:
                    data.append(row)
                else:
                    break
        
        row_lengths = {len(row) for row in data}
        if len(row_lengths) > 1 or row_lengths == {1}:
            sys.exit(f"Delimiter issues. Rows read have length(s) {row_lengths}")
        
        labels = np.array(data[0][1:])
        data_dims = len(data) - 1
        data_array = np.zeros((data_dims, data_dims))
        
        for i in range(data_dims):
            if data[i+1][0] != labels[i]:
                sys.exit("Matrix axes are unaligned. Perhaps the Y axis is inverted?")
            for j in range(data_dims):
                try:
                    data_array[i][j] = data[i+1][j+1]
                except ValueError:
                    data_array[i][j] = 0.0  # this position contains "" in the input data
        
        return data_array, labels

file = Input_File(os.listdir()[1])
file.get_data()





i = 1
for _ in range(5):
    i *= 2
    print(i)


import numpy as np
import pandas as pd

np.random.seed(0)
d = np.eye(4)

scaler = 1
for i, row in enumerate(d):
    for j, col in enumerate(row):
        if i < j:
            scaler *= 1.5
            d[i][j] = abs(np.random.normal(loc=d[i][j], scale=0.5*scaler))
        else:
            d[i][j] = d[j][i]
d


# Load the Iris dataset
iris = load_iris()

# Access the features and target variable
X = iris.data  # Features (sepal length, sepal width, petal length, petal width)
y = iris.target  # Target variable (species: 0 for setosa, 1 for versicolor, 2 for virginica)

# Print the feature names and target names
print("Feature names:", iris.feature_names)
print("Target names:", iris.target_names)

# Print the first few samples in the dataset
print("First 5 samples:")
for i in range(5):
    print(f"Sample {i+1}: {X[i]} (Class: {y[i]}, Species: {iris.target_names[y[i]]})")
help(iris)


# exact copy of code from link
import numpy as np
from matplotlib import pyplot as plt
from scipy.cluster.hierarchy import dendrogram

from sklearn.cluster import AgglomerativeClustering
from sklearn.datasets import load_iris


def plot_dendrogram(model, **kwargs):
    # Create linkage matrix and then plot the dendrogram

    # create the counts of samples under each node
    counts = np.zeros(model.children_.shape[0])
    n_samples = len(model.labels_)
    for i, merge in enumerate(model.children_):
        current_count = 0
        for child_idx in merge:
            if child_idx < n_samples:
                current_count += 1  # leaf node
            else:
                current_count += counts[child_idx - n_samples]
        counts[i] = current_count

    linkage_matrix = np.column_stack(
        [model.children_, model.distances_, counts]
    ).astype(float)

    # Plot the corresponding dendrogram
    dendrogram(linkage_matrix, **kwargs)


iris = load_iris()
X = iris.data

# setting distance_threshold=0 ensures we compute the full tree.
model = AgglomerativeClustering(distance_threshold=0, n_clusters=None)

model = model.fit(X)
plt.title("Hierarchical Clustering Dendrogram")
# plot the top three levels of the dendrogram
plot_dendrogram(model, truncate_mode="level", p=3)
plt.xlabel("Number of points in node (or index of point if no parenthesis).")
plt.show()


import numpy as np
from scipy.spatial.distance import pdist, squareform

# Define a set of objects
objects = np.array([[1, 10], [2, 11], [3, 4]])

# Calculate the pairwise distances
distances = pdist(objects)

# Convert the distances to a square matrix
distance_matrix = squareform(distances)


# Perform hierarchical clustering
Z = linkage(distance_matrix)

# Plot the dendrogram
plt.figure(figsize=(10, 5))
dendrogram(Z)
plt.show()





import sys
print(sys.path)


from scipy.cluster.hierarchy import linkage, dendrogram
from sklearn import metrics
import matplotlib.pyplot as plt
data = np.array([
    #0  1     2
    [1, 0.1, .25], # 0
    [0.1, 1, .8],  # 1
    [.25, .8, 1]   # 2
])
Z = linkage(data)
plt.figure()
dendrogram(Z, labels=np.array([0, 1, 2]))
plt.show()


import matplotlib.pyplot as plt
from sklearn.datasets import make_classification
from sklearn.metrics import confusion_matrix, ConfusionMatrixDisplay
from sklearn.model_selection import train_test_split
from sklearn.svm import SVC
X, y = make_classification(random_state=0)
X_train, X_test, y_train, y_test = train_test_split(X, y,
                                                    random_state=0)
clf = SVC(random_state=0)
clf.fit(X_train, y_train)
predictions = clf.predict(X_test)
cm = confusion_matrix(y_test, predictions, labels=clf.classes_)
print(cm)
disp = ConfusionMatrixDisplay(confusion_matrix=cm,
                              display_labels=clf.classes_)
disp.plot()
plt.show()


import sys
import numpy as np
def DistanceMatrixPlotter(matrix: np.array):
    if type(matrix) != type(np.array([])):
        print("Error: please input a numpy array")
    n_dims = len(matrix.shape)
    if n_dims != 2:
        print("Error: the numpy array does not have 2 dimensions")
DistanceMatrixPlotter([1])


def tsv_array_converter(filepath):
    data = []
    with open(filepath, "r") as f:
        while True:
            line = f.readline()
            row = line.strip("\n").split("\t")
            if line:
                data.append(row)
            else:
                break

    labels = np.array(data[0][1:])
    data_dims = len(data) - 1
    data_array = np.zeros((data_dims, data_dims))
    for i in range(data_dims):
        for j in range(data_dims):
            try:
                data_array[i][j] = data[i+1][j+1]
            except ValueError:
                data_array[i][j] = 100.
    
    return data_array, labels

l, d = tsv_array_converter(os.path.join(os.getcwd(), "Generate_genetic_distance/mtDNA_genetic_distance.tsv"))
print(l)
print(d)


d = np.array([ 0.          0.35820434 15.32668782  1.16810863  0.73789204  4.00435452
  0.52346905  0.58894685  0.82395922  1.16810863  1.33309662  0.92119912
  0.73789204  1.16810863  1.16810863 15.32668782  0.35820434  0.
 15.32668782  1.33309662  0.52346905  1.8319603   0.82395922  0.92119912
  0.92119912  1.33309662  1.03612938  1.53867525  0.82395922  1.16810863
  0.92119912 15.32668782 15.32668782 15.32668782  0.         15.32668782
 15.32668782 15.32668782 15.32668782 15.32668782 15.32668782 15.32668782
 15.32668782 15.32668782 15.32668782 15.32668782 15.32668782 15.32668782
  1.16810863  1.33309662 15.32668782  0.          1.8319603  15.32668782
  1.8319603  15.32668782  2.30284186  1.8319603  15.32668782  2.30284186
  1.53867525 15.32668782 15.32668782 15.32668782  0.73789204  0.52346905
 15.32668782  1.8319603   0.          1.8319603   1.8319603   1.33309662
  1.53867525  1.53867525  1.33309662  4.00435452  1.33309662  2.30284186
  1.16810863 15.32668782  4.00435452  1.8319603  15.32668782 15.32668782
  1.8319603   0.         15.32668782 15.32668782 15.32668782 15.32668782
 15.32668782 15.32668782  4.00435452 15.32668782 15.32668782 15.32668782
  0.52346905  0.82395922 15.32668782  1.8319603   1.8319603  15.32668782
  0.          0.92119912  1.53867525  1.8319603   1.8319603   1.16810863
  1.33309662  1.53867525  1.8319603  15.32668782  0.58894685  0.92119912
 15.32668782 15.32668782  1.33309662 15.32668782  0.92119912  0.
  1.53867525  1.8319603   1.8319603   1.16810863  1.33309662  1.53867525
  1.53867525  4.00435452  0.82395922  0.92119912 15.32668782  2.30284186
  1.53867525 15.32668782  1.53867525  1.53867525  0.          2.30284186
  4.00435452  2.30284186  0.46473669  0.65876467  2.30284186 15.32668782
  1.16810863  1.33309662 15.32668782  1.8319603   1.53867525 15.32668782
  1.8319603   1.8319603   2.30284186  0.          1.53867525  4.00435452
  1.53867525  4.00435452  1.33309662 15.32668782  1.33309662  1.03612938
 15.32668782 15.32668782  1.33309662 15.32668782  1.8319603   1.8319603
  4.00435452  1.53867525  0.         15.32668782  2.30284186  4.00435452
  0.73789204 15.32668782  0.92119912  1.53867525 15.32668782  2.30284186
  4.00435452 15.32668782  1.16810863  1.16810863  2.30284186  4.00435452
 15.32668782  0.          1.8319603  15.32668782  4.00435452  2.30284186
  0.73789204  0.82395922 15.32668782  1.53867525  1.33309662  4.00435452
  1.33309662  1.33309662  0.46473669  1.53867525  2.30284186  1.8319603
  0.          0.73789204  1.8319603   4.00435452  1.16810863  1.16810863
 15.32668782 15.32668782  2.30284186 15.32668782  1.53867525  1.53867525
  0.65876467  4.00435452  4.00435452 15.32668782  0.73789204  0.
  2.30284186 15.32668782  1.16810863  0.92119912 15.32668782 15.32668782
  1.16810863 15.32668782  1.8319603   1.53867525  2.30284186  1.33309662
  0.73789204  4.00435452  1.8319603   2.30284186  0.          2.30284186
 15.32668782 15.32668782 15.32668782 15.32668782 15.32668782 15.32668782
 15.32668782  4.00435452 15.32668782 15.32668782 15.32668782  2.30284186
  4.00435452 15.32668782  2.30284186  0.        ]


import sys
print(sys.path)


import os
import numpy as np
import pandas as pd
import math
path = "/Users/otodreas/Lund/Courses/MiscExercisesBINP16/RunningExercise3_BINP16/src/partiiiprograms/Generate_genetic_distance/mtDNA_genetic_distance.tsv"
print(os.getcwd())
import seaborn as sns

def tsv_array_converter(filepath):
    data = []
    with open(filepath, "r") as f:
        while True:
            line = f.readline()
            row = line.strip("\n").split("\t")
            if line:
                data.append(row)
            else:
                break
    
    row_lengths = {len(row) for row in data}
    if len(row_lengths) > 1 or row_lengths == {1}:
        sys.exit(f"Delimiter issues. Rows read have length(s) {row_lengths}")
    
    labels = np.array(data[0][1:])
    data_dims = len(data) - 1
    data_array = np.zeros((data_dims, data_dims))
    
    for i in range(data_dims):
        for j in range(data_dims):
            try:
                data_array[i][j] = data[i+1][j+1]
            except ValueError:
                data_array[i][j] = 0.  # this position contains "" in the input data
    
    return data_array, labels
data, labels = tsv_array_converter(path)

data = data.flatten()
log10_data = np.zeros(len(data))
log20_data = np.zeros(len(data))
for i in range(len(data)):
    log10_data[i] = math.log(data[i] + 1)
    log20_data[i]  = math.log(data[i] + 1, 20)

df = pd.DataFrame({"Regular": data, "Log10": log10_data, "Log20": log20_data})
sns.kdeplot(df)
    


# Libraries
import pandas as pd
from matplotlib import pyplot as plt
from scipy.cluster.hierarchy import dendrogram, linkage
import numpy as np
 
# Data set
url = 'https://raw.githubusercontent.com/holtzy/The-Python-Graph-Gallery/master/static/data/mtcars.csv'
df = pd.read_csv(url)
df = df.set_index('model')

display(df)
 
# Calculate the distance between each sample
Z = linkage(df, 'ward')
 
# Make the dendrogram
dendrogram(Z, labels=df.index, leaf_rotation=0, orientation="left", color_threshold=240, above_threshold_color='grey')
 
# Create a color palette with 3 colors for the 3 cyl possibilities
my_palette = plt.cm.get_cmap("Accent", 3)
 
# transforme the 'cyl' column in a categorical variable. It will allow to put one color on each level.
df['cyl']=pd.Categorical(df['cyl'])
my_color=df['cyl'].cat.codes
 
# Apply the right color to each label
ax = plt.gca()
xlbls = ax.get_ymajorticklabels()
num=-1
for lbl in xlbls:
    num+=1
    val=my_color[num]
    lbl.set_color(my_palette(val))

# Show the graph
plt.show()



